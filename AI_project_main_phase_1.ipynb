{
 "cells": [
  {
   "cell_type": "markdown",
   "metadata": {},
   "source": [
    "# Map Matching Project - Phase 1\n",
    "<div style=\"text-align: center\">\n",
    "<h1 style = \"color: red\"> Sharif University Of Technology</h1>\n",
    "<h2 style = \"color: green\"> DR. Mahdieh Soleymani | DR. MohammadHossein Rohban </h2>\n",
    "<h3 style = \"color: cyan\"> Head of Project: AmirHossein Razlighi <h3>\n",
    "<h3 style = \"color: cyan\"> Designed By: AmirHossein Razlighi - Hamidreza Yaghoubi - Alireza Heidari - Reza Vahidi Majd - Parham Rezaei<h3>\n",
    "<h3 style = \"color: cyan\"> Documents Designed by: Mohammad Moshtaghi Far<h3>\n",
    "<h4 style = \"color: white\"> Ask your questions via quera</h4>\n",
    "<h5> Save your file with format: STUDENT NUMBER_Phase1.ipynb or .zip </h5>\n",
    "</div>"
   ]
  },
  {
   "cell_type": "markdown",
   "metadata": {
    "id": "NwJh3NuumTZT"
   },
   "source": [
    "Setting up the environment"
   ]
  },
  {
   "cell_type": "code",
   "execution_count": 1,
   "metadata": {
    "colab": {
     "base_uri": "https://localhost:8080/"
    },
    "id": "JTKl9O5glmbP",
    "outputId": "e0087573-d26c-4f57-9616-e4a98b4605fd"
   },
   "outputs": [
    {
     "name": "stdout",
     "output_type": "stream",
     "text": [
      "Collecting pyrosmNote: you may need to restart the kernel to use updated packages.\n",
      "\n",
      "  Downloading pyrosm-0.6.2.tar.gz (2.5 MB)\n",
      "     ---------------------------------------- 2.5/2.5 MB 84.8 kB/s eta 0:00:00\n",
      "  Installing build dependencies: started\n",
      "  Installing build dependencies: still running...\n",
      "  Installing build dependencies: finished with status 'done'\n",
      "  Getting requirements to build wheel: started\n",
      "  Getting requirements to build wheel: finished with status 'done'\n",
      "  Preparing metadata (pyproject.toml): started\n",
      "  Preparing metadata (pyproject.toml): finished with status 'done'\n",
      "Collecting keplergl\n",
      "  Downloading keplergl-0.3.2.tar.gz (9.7 MB)\n",
      "     ---------------------------------------- 9.7/9.7 MB 252.0 kB/s eta 0:00:00\n",
      "  Installing build dependencies: started\n",
      "  Installing build dependencies: still running...\n",
      "  Installing build dependencies: still running...\n",
      "  Installing build dependencies: still running...\n",
      "  Installing build dependencies: still running...\n",
      "  Installing build dependencies: finished with status 'done'\n",
      "  Getting requirements to build wheel: started\n",
      "  Getting requirements to build wheel: finished with status 'done'\n",
      "  Preparing metadata (pyproject.toml): started\n",
      "  Preparing metadata (pyproject.toml): finished with status 'done'\n",
      "Collecting haversine\n",
      "  Downloading haversine-2.8.0-py2.py3-none-any.whl (7.7 kB)\n",
      "Requirement already satisfied: pandas in c:\\users\\kasra\\anaconda3\\lib\\site-packages (1.5.3)\n",
      "Requirement already satisfied: numpy in c:\\users\\kasra\\anaconda3\\lib\\site-packages (1.23.5)\n",
      "Requirement already satisfied: setuptools>=18.0 in c:\\users\\kasra\\anaconda3\\lib\\site-packages (from pyrosm) (65.6.3)\n",
      "Collecting geopandas>=0.12.0\n",
      "  Downloading geopandas-0.14.2-py3-none-any.whl (1.1 MB)\n",
      "     ---------------------------------------- 1.1/1.1 MB 207.8 kB/s eta 0:00:00\n",
      "Collecting python-rapidjson\n",
      "  Downloading python_rapidjson-1.14-cp310-cp310-win_amd64.whl (146 kB)\n",
      "     ------------------------------------ 146.8/146.8 kB 116.5 kB/s eta 0:00:00\n",
      "Collecting pyrobuf\n",
      "  Using cached pyrobuf-0.9.3-cp310-cp310-win_amd64.whl\n",
      "Collecting shapely>=2.0.1\n",
      "  Downloading shapely-2.0.2-cp310-cp310-win_amd64.whl (1.4 MB)\n",
      "     ---------------------------------------- 1.4/1.4 MB 118.9 kB/s eta 0:00:00\n",
      "Collecting cykhash\n",
      "  Downloading cykhash-2.0.1.tar.gz (44 kB)\n",
      "     --------------------------------------- 44.9/44.9 kB 73.9 kB/s eta 0:00:00\n",
      "  Installing build dependencies: started\n",
      "  Installing build dependencies: finished with status 'done'\n",
      "  Getting requirements to build wheel: started\n",
      "  Getting requirements to build wheel: finished with status 'done'\n",
      "  Preparing metadata (pyproject.toml): started\n",
      "  Preparing metadata (pyproject.toml): finished with status 'done'\n",
      "Requirement already satisfied: ipywidgets<8,>=7.0.0 in c:\\users\\kasra\\anaconda3\\lib\\site-packages (from keplergl) (7.6.5)\n",
      "Collecting traittypes>=0.2.1\n",
      "  Downloading traittypes-0.2.1-py2.py3-none-any.whl (8.6 kB)\n",
      "Requirement already satisfied: python-dateutil>=2.8.1 in c:\\users\\kasra\\anaconda3\\lib\\site-packages (from pandas) (2.8.2)\n",
      "Requirement already satisfied: pytz>=2020.1 in c:\\users\\kasra\\anaconda3\\lib\\site-packages (from pandas) (2022.7)\n",
      "Requirement already satisfied: packaging in c:\\users\\kasra\\anaconda3\\lib\\site-packages (from geopandas>=0.12.0->pyrosm) (22.0)\n",
      "Collecting fiona>=1.8.21\n",
      "  Downloading fiona-1.9.5-cp310-cp310-win_amd64.whl (22.9 MB)\n",
      "     -------------------------------------- 22.9/22.9 MB 129.7 kB/s eta 0:00:00\n",
      "Collecting pyproj>=3.3.0\n",
      "  Downloading pyproj-3.6.1-cp310-cp310-win_amd64.whl (6.1 MB)\n",
      "     ---------------------------------------- 6.1/6.1 MB 139.4 kB/s eta 0:00:00\n",
      "Requirement already satisfied: ipython-genutils~=0.2.0 in c:\\users\\kasra\\anaconda3\\lib\\site-packages (from ipywidgets<8,>=7.0.0->keplergl) (0.2.0)\n",
      "Requirement already satisfied: ipython>=4.0.0 in c:\\users\\kasra\\appdata\\roaming\\python\\python310\\site-packages (from ipywidgets<8,>=7.0.0->keplergl) (8.14.0)\n",
      "Requirement already satisfied: widgetsnbextension~=3.5.0 in c:\\users\\kasra\\anaconda3\\lib\\site-packages (from ipywidgets<8,>=7.0.0->keplergl) (3.5.2)\n",
      "Requirement already satisfied: traitlets>=4.3.1 in c:\\users\\kasra\\appdata\\roaming\\python\\python310\\site-packages (from ipywidgets<8,>=7.0.0->keplergl) (5.9.0)\n",
      "Requirement already satisfied: jupyterlab-widgets>=1.0.0 in c:\\users\\kasra\\anaconda3\\lib\\site-packages (from ipywidgets<8,>=7.0.0->keplergl) (1.0.0)\n",
      "Requirement already satisfied: ipykernel>=4.5.1 in c:\\users\\kasra\\appdata\\roaming\\python\\python310\\site-packages (from ipywidgets<8,>=7.0.0->keplergl) (6.23.3)\n",
      "Requirement already satisfied: nbformat>=4.2.0 in c:\\users\\kasra\\anaconda3\\lib\\site-packages (from ipywidgets<8,>=7.0.0->keplergl) (5.7.0)\n",
      "Requirement already satisfied: six>=1.5 in c:\\users\\kasra\\anaconda3\\lib\\site-packages (from python-dateutil>=2.8.1->pandas) (1.16.0)\n",
      "Collecting cython>=0.23\n",
      "  Using cached Cython-3.0.7-cp310-cp310-win_amd64.whl (2.8 MB)\n",
      "Requirement already satisfied: jinja2>=2.8 in c:\\users\\kasra\\anaconda3\\lib\\site-packages (from pyrobuf->pyrosm) (3.1.2)\n",
      "Collecting cligj>=0.5\n",
      "  Downloading cligj-0.7.2-py3-none-any.whl (7.1 kB)\n",
      "Requirement already satisfied: attrs>=19.2.0 in c:\\users\\kasra\\anaconda3\\lib\\site-packages (from fiona>=1.8.21->geopandas>=0.12.0->pyrosm) (22.1.0)\n",
      "Collecting click-plugins>=1.0\n",
      "  Downloading click_plugins-1.1.1-py2.py3-none-any.whl (7.5 kB)\n",
      "Requirement already satisfied: certifi in c:\\users\\kasra\\anaconda3\\lib\\site-packages (from fiona>=1.8.21->geopandas>=0.12.0->pyrosm) (2022.12.7)\n",
      "Requirement already satisfied: click~=8.0 in c:\\users\\kasra\\anaconda3\\lib\\site-packages (from fiona>=1.8.21->geopandas>=0.12.0->pyrosm) (8.0.4)\n",
      "Requirement already satisfied: psutil in c:\\users\\kasra\\appdata\\roaming\\python\\python310\\site-packages (from ipykernel>=4.5.1->ipywidgets<8,>=7.0.0->keplergl) (5.9.5)\n",
      "Requirement already satisfied: pyzmq>=20 in c:\\users\\kasra\\anaconda3\\lib\\site-packages (from ipykernel>=4.5.1->ipywidgets<8,>=7.0.0->keplergl) (23.2.0)\n",
      "Requirement already satisfied: debugpy>=1.6.5 in c:\\users\\kasra\\appdata\\roaming\\python\\python310\\site-packages (from ipykernel>=4.5.1->ipywidgets<8,>=7.0.0->keplergl) (1.6.7)\n",
      "Requirement already satisfied: matplotlib-inline>=0.1 in c:\\users\\kasra\\appdata\\roaming\\python\\python310\\site-packages (from ipykernel>=4.5.1->ipywidgets<8,>=7.0.0->keplergl) (0.1.6)\n",
      "Requirement already satisfied: jupyter-core!=5.0.*,>=4.12 in c:\\users\\kasra\\appdata\\roaming\\python\\python310\\site-packages (from ipykernel>=4.5.1->ipywidgets<8,>=7.0.0->keplergl) (5.3.1)\n",
      "Requirement already satisfied: comm>=0.1.1 in c:\\users\\kasra\\appdata\\roaming\\python\\python310\\site-packages (from ipykernel>=4.5.1->ipywidgets<8,>=7.0.0->keplergl) (0.1.3)\n",
      "Requirement already satisfied: tornado>=6.1 in c:\\users\\kasra\\appdata\\roaming\\python\\python310\\site-packages (from ipykernel>=4.5.1->ipywidgets<8,>=7.0.0->keplergl) (6.3.2)\n",
      "Requirement already satisfied: jupyter-client>=6.1.12 in c:\\users\\kasra\\appdata\\roaming\\python\\python310\\site-packages (from ipykernel>=4.5.1->ipywidgets<8,>=7.0.0->keplergl) (8.3.0)\n",
      "Requirement already satisfied: nest-asyncio in c:\\users\\kasra\\appdata\\roaming\\python\\python310\\site-packages (from ipykernel>=4.5.1->ipywidgets<8,>=7.0.0->keplergl) (1.5.6)\n",
      "Requirement already satisfied: jedi>=0.16 in c:\\users\\kasra\\appdata\\roaming\\python\\python310\\site-packages (from ipython>=4.0.0->ipywidgets<8,>=7.0.0->keplergl) (0.18.2)\n",
      "Requirement already satisfied: backcall in c:\\users\\kasra\\appdata\\roaming\\python\\python310\\site-packages (from ipython>=4.0.0->ipywidgets<8,>=7.0.0->keplergl) (0.2.0)\n",
      "Requirement already satisfied: decorator in c:\\users\\kasra\\appdata\\roaming\\python\\python310\\site-packages (from ipython>=4.0.0->ipywidgets<8,>=7.0.0->keplergl) (5.1.1)\n",
      "Requirement already satisfied: pickleshare in c:\\users\\kasra\\appdata\\roaming\\python\\python310\\site-packages (from ipython>=4.0.0->ipywidgets<8,>=7.0.0->keplergl) (0.7.5)\n",
      "Requirement already satisfied: prompt-toolkit!=3.0.37,<3.1.0,>=3.0.30 in c:\\users\\kasra\\appdata\\roaming\\python\\python310\\site-packages (from ipython>=4.0.0->ipywidgets<8,>=7.0.0->keplergl) (3.0.38)\n",
      "Requirement already satisfied: pygments>=2.4.0 in c:\\users\\kasra\\appdata\\roaming\\python\\python310\\site-packages (from ipython>=4.0.0->ipywidgets<8,>=7.0.0->keplergl) (2.15.1)\n",
      "Requirement already satisfied: stack-data in c:\\users\\kasra\\appdata\\roaming\\python\\python310\\site-packages (from ipython>=4.0.0->ipywidgets<8,>=7.0.0->keplergl) (0.6.2)\n",
      "Requirement already satisfied: colorama in c:\\users\\kasra\\appdata\\roaming\\python\\python310\\site-packages (from ipython>=4.0.0->ipywidgets<8,>=7.0.0->keplergl) (0.4.6)\n",
      "Requirement already satisfied: MarkupSafe>=2.0 in c:\\users\\kasra\\anaconda3\\lib\\site-packages (from jinja2>=2.8->pyrobuf->pyrosm) (2.1.1)\n",
      "Requirement already satisfied: jsonschema>=2.6 in c:\\users\\kasra\\anaconda3\\lib\\site-packages (from nbformat>=4.2.0->ipywidgets<8,>=7.0.0->keplergl) (4.17.3)\n",
      "Requirement already satisfied: fastjsonschema in c:\\users\\kasra\\anaconda3\\lib\\site-packages (from nbformat>=4.2.0->ipywidgets<8,>=7.0.0->keplergl) (2.16.2)\n",
      "Requirement already satisfied: notebook>=4.4.1 in c:\\users\\kasra\\anaconda3\\lib\\site-packages (from widgetsnbextension~=3.5.0->ipywidgets<8,>=7.0.0->keplergl) (6.5.2)\n",
      "Requirement already satisfied: parso<0.9.0,>=0.8.0 in c:\\users\\kasra\\appdata\\roaming\\python\\python310\\site-packages (from jedi>=0.16->ipython>=4.0.0->ipywidgets<8,>=7.0.0->keplergl) (0.8.3)\n",
      "Requirement already satisfied: pyrsistent!=0.17.0,!=0.17.1,!=0.17.2,>=0.14.0 in c:\\users\\kasra\\anaconda3\\lib\\site-packages (from jsonschema>=2.6->nbformat>=4.2.0->ipywidgets<8,>=7.0.0->keplergl) (0.18.0)\n",
      "Requirement already satisfied: platformdirs>=2.5 in c:\\users\\kasra\\appdata\\roaming\\python\\python310\\site-packages (from jupyter-core!=5.0.*,>=4.12->ipykernel>=4.5.1->ipywidgets<8,>=7.0.0->keplergl) (3.8.0)\n",
      "Requirement already satisfied: pywin32>=300 in c:\\users\\kasra\\appdata\\roaming\\python\\python310\\site-packages (from jupyter-core!=5.0.*,>=4.12->ipykernel>=4.5.1->ipywidgets<8,>=7.0.0->keplergl) (306)\n",
      "Requirement already satisfied: Send2Trash>=1.8.0 in c:\\users\\kasra\\anaconda3\\lib\\site-packages (from notebook>=4.4.1->widgetsnbextension~=3.5.0->ipywidgets<8,>=7.0.0->keplergl) (1.8.0)\n",
      "Requirement already satisfied: nbclassic>=0.4.7 in c:\\users\\kasra\\anaconda3\\lib\\site-packages (from notebook>=4.4.1->widgetsnbextension~=3.5.0->ipywidgets<8,>=7.0.0->keplergl) (0.5.2)\n",
      "Requirement already satisfied: nbconvert>=5 in c:\\users\\kasra\\anaconda3\\lib\\site-packages (from notebook>=4.4.1->widgetsnbextension~=3.5.0->ipywidgets<8,>=7.0.0->keplergl) (6.5.4)\n",
      "Requirement already satisfied: prometheus-client in c:\\users\\kasra\\anaconda3\\lib\\site-packages (from notebook>=4.4.1->widgetsnbextension~=3.5.0->ipywidgets<8,>=7.0.0->keplergl) (0.14.1)\n",
      "Requirement already satisfied: argon2-cffi in c:\\users\\kasra\\anaconda3\\lib\\site-packages (from notebook>=4.4.1->widgetsnbextension~=3.5.0->ipywidgets<8,>=7.0.0->keplergl) (21.3.0)\n",
      "Requirement already satisfied: terminado>=0.8.3 in c:\\users\\kasra\\anaconda3\\lib\\site-packages (from notebook>=4.4.1->widgetsnbextension~=3.5.0->ipywidgets<8,>=7.0.0->keplergl) (0.17.1)\n",
      "Requirement already satisfied: wcwidth in c:\\users\\kasra\\appdata\\roaming\\python\\python310\\site-packages (from prompt-toolkit!=3.0.37,<3.1.0,>=3.0.30->ipython>=4.0.0->ipywidgets<8,>=7.0.0->keplergl) (0.2.6)\n",
      "Requirement already satisfied: pure-eval in c:\\users\\kasra\\appdata\\roaming\\python\\python310\\site-packages (from stack-data->ipython>=4.0.0->ipywidgets<8,>=7.0.0->keplergl) (0.2.2)\n",
      "Requirement already satisfied: executing>=1.2.0 in c:\\users\\kasra\\appdata\\roaming\\python\\python310\\site-packages (from stack-data->ipython>=4.0.0->ipywidgets<8,>=7.0.0->keplergl) (1.2.0)\n",
      "Requirement already satisfied: asttokens>=2.1.0 in c:\\users\\kasra\\appdata\\roaming\\python\\python310\\site-packages (from stack-data->ipython>=4.0.0->ipywidgets<8,>=7.0.0->keplergl) (2.2.1)\n",
      "Requirement already satisfied: notebook-shim>=0.1.0 in c:\\users\\kasra\\anaconda3\\lib\\site-packages (from nbclassic>=0.4.7->notebook>=4.4.1->widgetsnbextension~=3.5.0->ipywidgets<8,>=7.0.0->keplergl) (0.2.2)\n",
      "Requirement already satisfied: jupyter-server>=1.8 in c:\\users\\kasra\\anaconda3\\lib\\site-packages (from nbclassic>=0.4.7->notebook>=4.4.1->widgetsnbextension~=3.5.0->ipywidgets<8,>=7.0.0->keplergl) (1.23.4)\n",
      "Requirement already satisfied: jupyterlab-pygments in c:\\users\\kasra\\anaconda3\\lib\\site-packages (from nbconvert>=5->notebook>=4.4.1->widgetsnbextension~=3.5.0->ipywidgets<8,>=7.0.0->keplergl) (0.1.2)\n",
      "Requirement already satisfied: nbclient>=0.5.0 in c:\\users\\kasra\\anaconda3\\lib\\site-packages (from nbconvert>=5->notebook>=4.4.1->widgetsnbextension~=3.5.0->ipywidgets<8,>=7.0.0->keplergl) (0.5.13)\n",
      "Requirement already satisfied: defusedxml in c:\\users\\kasra\\anaconda3\\lib\\site-packages (from nbconvert>=5->notebook>=4.4.1->widgetsnbextension~=3.5.0->ipywidgets<8,>=7.0.0->keplergl) (0.7.1)\n",
      "Requirement already satisfied: beautifulsoup4 in c:\\users\\kasra\\anaconda3\\lib\\site-packages (from nbconvert>=5->notebook>=4.4.1->widgetsnbextension~=3.5.0->ipywidgets<8,>=7.0.0->keplergl) (4.11.1)\n",
      "Requirement already satisfied: tinycss2 in c:\\users\\kasra\\anaconda3\\lib\\site-packages (from nbconvert>=5->notebook>=4.4.1->widgetsnbextension~=3.5.0->ipywidgets<8,>=7.0.0->keplergl) (1.2.1)\n",
      "Requirement already satisfied: bleach in c:\\users\\kasra\\anaconda3\\lib\\site-packages (from nbconvert>=5->notebook>=4.4.1->widgetsnbextension~=3.5.0->ipywidgets<8,>=7.0.0->keplergl) (4.1.0)\n",
      "Requirement already satisfied: mistune<2,>=0.8.1 in c:\\users\\kasra\\anaconda3\\lib\\site-packages (from nbconvert>=5->notebook>=4.4.1->widgetsnbextension~=3.5.0->ipywidgets<8,>=7.0.0->keplergl) (0.8.4)\n",
      "Requirement already satisfied: pandocfilters>=1.4.1 in c:\\users\\kasra\\anaconda3\\lib\\site-packages (from nbconvert>=5->notebook>=4.4.1->widgetsnbextension~=3.5.0->ipywidgets<8,>=7.0.0->keplergl) (1.5.0)\n",
      "Requirement already satisfied: entrypoints>=0.2.2 in c:\\users\\kasra\\anaconda3\\lib\\site-packages (from nbconvert>=5->notebook>=4.4.1->widgetsnbextension~=3.5.0->ipywidgets<8,>=7.0.0->keplergl) (0.4)\n",
      "Requirement already satisfied: lxml in c:\\users\\kasra\\anaconda3\\lib\\site-packages (from nbconvert>=5->notebook>=4.4.1->widgetsnbextension~=3.5.0->ipywidgets<8,>=7.0.0->keplergl) (4.9.1)\n",
      "Requirement already satisfied: pywinpty>=1.1.0 in c:\\users\\kasra\\anaconda3\\lib\\site-packages (from terminado>=0.8.3->notebook>=4.4.1->widgetsnbextension~=3.5.0->ipywidgets<8,>=7.0.0->keplergl) (2.0.10)\n",
      "Requirement already satisfied: argon2-cffi-bindings in c:\\users\\kasra\\anaconda3\\lib\\site-packages (from argon2-cffi->notebook>=4.4.1->widgetsnbextension~=3.5.0->ipywidgets<8,>=7.0.0->keplergl) (21.2.0)\n",
      "Requirement already satisfied: websocket-client in c:\\users\\kasra\\anaconda3\\lib\\site-packages (from jupyter-server>=1.8->nbclassic>=0.4.7->notebook>=4.4.1->widgetsnbextension~=3.5.0->ipywidgets<8,>=7.0.0->keplergl) (0.58.0)\n",
      "Requirement already satisfied: anyio<4,>=3.1.0 in c:\\users\\kasra\\anaconda3\\lib\\site-packages (from jupyter-server>=1.8->nbclassic>=0.4.7->notebook>=4.4.1->widgetsnbextension~=3.5.0->ipywidgets<8,>=7.0.0->keplergl) (3.5.0)\n",
      "Requirement already satisfied: cffi>=1.0.1 in c:\\users\\kasra\\anaconda3\\lib\\site-packages (from argon2-cffi-bindings->argon2-cffi->notebook>=4.4.1->widgetsnbextension~=3.5.0->ipywidgets<8,>=7.0.0->keplergl) (1.15.1)\n",
      "Requirement already satisfied: soupsieve>1.2 in c:\\users\\kasra\\anaconda3\\lib\\site-packages (from beautifulsoup4->nbconvert>=5->notebook>=4.4.1->widgetsnbextension~=3.5.0->ipywidgets<8,>=7.0.0->keplergl) (2.3.2.post1)\n",
      "Requirement already satisfied: webencodings in c:\\users\\kasra\\anaconda3\\lib\\site-packages (from bleach->nbconvert>=5->notebook>=4.4.1->widgetsnbextension~=3.5.0->ipywidgets<8,>=7.0.0->keplergl) (0.5.1)\n",
      "Requirement already satisfied: idna>=2.8 in c:\\users\\kasra\\anaconda3\\lib\\site-packages (from anyio<4,>=3.1.0->jupyter-server>=1.8->nbclassic>=0.4.7->notebook>=4.4.1->widgetsnbextension~=3.5.0->ipywidgets<8,>=7.0.0->keplergl) (3.4)\n",
      "Requirement already satisfied: sniffio>=1.1 in c:\\users\\kasra\\anaconda3\\lib\\site-packages (from anyio<4,>=3.1.0->jupyter-server>=1.8->nbclassic>=0.4.7->notebook>=4.4.1->widgetsnbextension~=3.5.0->ipywidgets<8,>=7.0.0->keplergl) (1.2.0)\n",
      "Requirement already satisfied: pycparser in c:\\users\\kasra\\anaconda3\\lib\\site-packages (from cffi>=1.0.1->argon2-cffi-bindings->argon2-cffi->notebook>=4.4.1->widgetsnbextension~=3.5.0->ipywidgets<8,>=7.0.0->keplergl) (2.21)\n",
      "Building wheels for collected packages: pyrosm, keplergl, cykhash\n",
      "  Building wheel for pyrosm (pyproject.toml): started\n",
      "  Building wheel for pyrosm (pyproject.toml): finished with status 'done'\n",
      "  Created wheel for pyrosm: filename=pyrosm-0.6.2-cp310-cp310-win_amd64.whl size=2644673 sha256=d7dd5f3c89929d5ca29bd50f47de4521a7655951b9bd7d48dcf8743678d90e29\n",
      "  Stored in directory: c:\\users\\kasra\\appdata\\local\\pip\\cache\\wheels\\4c\\46\\e6\\72c90bab918db8f18f2f6b6091d76464b08cee824b3619242c\n",
      "  Building wheel for keplergl (pyproject.toml): started\n",
      "  Building wheel for keplergl (pyproject.toml): finished with status 'done'\n",
      "  Created wheel for keplergl: filename=keplergl-0.3.2-py2.py3-none-any.whl size=17922326 sha256=00d797f004cece2332418e6895ea807f5a11ed146cb1258cd097fcb829564cf9\n",
      "  Stored in directory: c:\\users\\kasra\\appdata\\local\\pip\\cache\\wheels\\9b\\51\\6c\\2b7e19f59d53f18a26ee41f8d26e6975533effac6bb4ea449d\n",
      "  Building wheel for cykhash (pyproject.toml): started\n",
      "  Building wheel for cykhash (pyproject.toml): finished with status 'done'\n",
      "  Created wheel for cykhash: filename=cykhash-2.0.1-cp310-cp310-win_amd64.whl size=649314 sha256=bbc50d633dbcf0db7455d9fac43f1c056e35dcdc538caa1939fc6425c0e77916\n",
      "  Stored in directory: c:\\users\\kasra\\appdata\\local\\pip\\cache\\wheels\\9e\\3b\\8f\\83b36db078d529b9c0a95f6b2c9fc334e49a90947aec284048\n",
      "Successfully built pyrosm keplergl cykhash\n",
      "Installing collected packages: cykhash, traittypes, shapely, python-rapidjson, pyproj, haversine, cython, pyrobuf, cligj, click-plugins, fiona, geopandas, pyrosm, keplergl\n",
      "Successfully installed click-plugins-1.1.1 cligj-0.7.2 cykhash-2.0.1 cython-3.0.7 fiona-1.9.5 geopandas-0.14.2 haversine-2.8.0 keplergl-0.3.2 pyproj-3.6.1 pyrobuf-0.9.3 pyrosm-0.6.2 python-rapidjson-1.14 shapely-2.0.2 traittypes-0.2.1\n"
     ]
    }
   ],
   "source": [
    "%pip install pyrosm keplergl haversine pandas numpy"
   ]
  },
  {
   "cell_type": "code",
   "execution_count": 1,
   "metadata": {
    "id": "SbtVTMtTlmbQ"
   },
   "outputs": [],
   "source": [
    "import datetime\n",
    "import numpy as np\n",
    "import pandas as pd\n",
    "import pyrosm\n",
    "import random\n",
    "import ssl\n",
    "import time\n",
    "\n",
    "from keplergl import KeplerGl\n",
    "from pyrosm import OSM, get_data"
   ]
  },
  {
   "cell_type": "code",
   "execution_count": null,
   "metadata": {},
   "outputs": [],
   "source": [
    "# If you are using colab, you need to run this cell\n",
    "from google.colab import output\n",
    "output.enable_custom_widget_manager()"
   ]
  },
  {
   "cell_type": "markdown",
   "metadata": {},
   "source": [
    "## Introduction\n",
    "In this phase of project, you are going to implement a *denoising algorithm*. In many cases, when an application is dealing with _user GPS location_, in many urban areas and the places with tall towers, the GPS signal gets too noisy! This is the reason of why when you open \"google maps\", you see your current location with a blue circle around it. The radius of this circle shows the accuracy of your location. Sometimes, this radius is around 10m and in other areas, it goes in scale of km, making the GPS location totally unstable and unreliable! This amount of noise makes it impossible to use the data for any kind of analysis. In \"ride hailing\" applications like Uber, many of functionalities rely on the accuracy of GPS data. E.g. ETA estimation (Estimated time of arrival) is highly dependent on the accuracy of GPS data. In this phase, you are going to implement a denoising algorithm to make the GPS data more reliable. You will use your kowledge of Hidden Markov Models to implement this algorithm.\n",
    "\n",
    "<div style=\"text-align: center\">\n",
    "<img src=\"./Images/blue_dot.jpg\" height=\"500\" width=\"auto\" /> </br>\n",
    "(Sample of GPS data with blue dot)\n",
    "</div>"
   ]
  },
  {
   "cell_type": "markdown",
   "metadata": {},
   "source": [
    "# Loading Pasdaran streets dataset"
   ]
  },
  {
   "cell_type": "markdown",
   "metadata": {},
   "source": [
    "In this section, you will load a dataset that is prepared for you. The dataset contains some GPS locations (nodes) from Pasdaran Streets and also another dataset which contains the \"streets\" in Pasdaran area. By \"street\" we mean a pair of nodes, representing two end-points of a street in the map. These datasets are in `Data/` folder with names `pasdaran_streets.csv` and `pasdaran_nodes.csv`."
   ]
  },
  {
   "cell_type": "code",
   "execution_count": 2,
   "metadata": {},
   "outputs": [],
   "source": [
    "# Load the data\n",
    "pasdaran_streets = pd.read_csv('pasdaran_streets.csv')\n",
    "pasdaran_nodes = pd.read_csv('pasdaran_nodes.csv')"
   ]
  },
  {
   "cell_type": "code",
   "execution_count": 3,
   "metadata": {},
   "outputs": [
    {
     "data": {
      "text/html": [
       "<div>\n",
       "<style scoped>\n",
       "    .dataframe tbody tr th:only-of-type {\n",
       "        vertical-align: middle;\n",
       "    }\n",
       "\n",
       "    .dataframe tbody tr th {\n",
       "        vertical-align: top;\n",
       "    }\n",
       "\n",
       "    .dataframe thead th {\n",
       "        text-align: right;\n",
       "    }\n",
       "</style>\n",
       "<table border=\"1\" class=\"dataframe\">\n",
       "  <thead>\n",
       "    <tr style=\"text-align: right;\">\n",
       "      <th></th>\n",
       "      <th>street_id</th>\n",
       "      <th>u</th>\n",
       "      <th>v</th>\n",
       "      <th>length</th>\n",
       "      <th>oneway</th>\n",
       "      <th>u_lat</th>\n",
       "      <th>u_lon</th>\n",
       "      <th>v_lat</th>\n",
       "      <th>v_lon</th>\n",
       "    </tr>\n",
       "  </thead>\n",
       "  <tbody>\n",
       "    <tr>\n",
       "      <th>0</th>\n",
       "      <td>5003747</td>\n",
       "      <td>423833948</td>\n",
       "      <td>423793584</td>\n",
       "      <td>90.570</td>\n",
       "      <td>no</td>\n",
       "      <td>35.772419</td>\n",
       "      <td>51.465652</td>\n",
       "      <td>35.771748</td>\n",
       "      <td>51.465084</td>\n",
       "    </tr>\n",
       "    <tr>\n",
       "      <th>1</th>\n",
       "      <td>17099043</td>\n",
       "      <td>177540293</td>\n",
       "      <td>423832815</td>\n",
       "      <td>296.273</td>\n",
       "      <td>yes</td>\n",
       "      <td>35.771034</td>\n",
       "      <td>51.464462</td>\n",
       "      <td>35.772175</td>\n",
       "      <td>51.461494</td>\n",
       "    </tr>\n",
       "    <tr>\n",
       "      <th>2</th>\n",
       "      <td>787945693</td>\n",
       "      <td>4429684144</td>\n",
       "      <td>423832815</td>\n",
       "      <td>62.573</td>\n",
       "      <td>no</td>\n",
       "      <td>35.772636</td>\n",
       "      <td>51.461891</td>\n",
       "      <td>35.772175</td>\n",
       "      <td>51.461494</td>\n",
       "    </tr>\n",
       "    <tr>\n",
       "      <th>3</th>\n",
       "      <td>687277053</td>\n",
       "      <td>177540293</td>\n",
       "      <td>423793585</td>\n",
       "      <td>97.898</td>\n",
       "      <td>no</td>\n",
       "      <td>35.771034</td>\n",
       "      <td>51.464462</td>\n",
       "      <td>35.770317</td>\n",
       "      <td>51.463833</td>\n",
       "    </tr>\n",
       "    <tr>\n",
       "      <th>4</th>\n",
       "      <td>36333153</td>\n",
       "      <td>9339973930</td>\n",
       "      <td>423793585</td>\n",
       "      <td>296.275</td>\n",
       "      <td>yes</td>\n",
       "      <td>35.771458</td>\n",
       "      <td>51.460865</td>\n",
       "      <td>35.770317</td>\n",
       "      <td>51.463833</td>\n",
       "    </tr>\n",
       "  </tbody>\n",
       "</table>\n",
       "</div>"
      ],
      "text/plain": [
       "   street_id           u          v   length oneway      u_lat      u_lon  \\\n",
       "0    5003747   423833948  423793584   90.570     no  35.772419  51.465652   \n",
       "1   17099043   177540293  423832815  296.273    yes  35.771034  51.464462   \n",
       "2  787945693  4429684144  423832815   62.573     no  35.772636  51.461891   \n",
       "3  687277053   177540293  423793585   97.898     no  35.771034  51.464462   \n",
       "4   36333153  9339973930  423793585  296.275    yes  35.771458  51.460865   \n",
       "\n",
       "       v_lat      v_lon  \n",
       "0  35.771748  51.465084  \n",
       "1  35.772175  51.461494  \n",
       "2  35.772175  51.461494  \n",
       "3  35.770317  51.463833  \n",
       "4  35.770317  51.463833  "
      ]
     },
     "execution_count": 3,
     "metadata": {},
     "output_type": "execute_result"
    }
   ],
   "source": [
    "pasdaran_streets.head()"
   ]
  },
  {
   "cell_type": "code",
   "execution_count": 4,
   "metadata": {},
   "outputs": [
    {
     "data": {
      "text/html": [
       "<div>\n",
       "<style scoped>\n",
       "    .dataframe tbody tr th:only-of-type {\n",
       "        vertical-align: middle;\n",
       "    }\n",
       "\n",
       "    .dataframe tbody tr th {\n",
       "        vertical-align: top;\n",
       "    }\n",
       "\n",
       "    .dataframe thead th {\n",
       "        text-align: right;\n",
       "    }\n",
       "</style>\n",
       "<table border=\"1\" class=\"dataframe\">\n",
       "  <thead>\n",
       "    <tr style=\"text-align: right;\">\n",
       "      <th></th>\n",
       "      <th>id</th>\n",
       "      <th>lat</th>\n",
       "      <th>lon</th>\n",
       "    </tr>\n",
       "  </thead>\n",
       "  <tbody>\n",
       "    <tr>\n",
       "      <th>0</th>\n",
       "      <td>423833948</td>\n",
       "      <td>35.772419</td>\n",
       "      <td>51.465652</td>\n",
       "    </tr>\n",
       "    <tr>\n",
       "      <th>1</th>\n",
       "      <td>423793584</td>\n",
       "      <td>35.771748</td>\n",
       "      <td>51.465084</td>\n",
       "    </tr>\n",
       "    <tr>\n",
       "      <th>2</th>\n",
       "      <td>177536927</td>\n",
       "      <td>35.776230</td>\n",
       "      <td>51.465034</td>\n",
       "    </tr>\n",
       "    <tr>\n",
       "      <th>3</th>\n",
       "      <td>177540293</td>\n",
       "      <td>35.771034</td>\n",
       "      <td>51.464462</td>\n",
       "    </tr>\n",
       "    <tr>\n",
       "      <th>4</th>\n",
       "      <td>423832815</td>\n",
       "      <td>35.772175</td>\n",
       "      <td>51.461494</td>\n",
       "    </tr>\n",
       "  </tbody>\n",
       "</table>\n",
       "</div>"
      ],
      "text/plain": [
       "          id        lat        lon\n",
       "0  423833948  35.772419  51.465652\n",
       "1  423793584  35.771748  51.465084\n",
       "2  177536927  35.776230  51.465034\n",
       "3  177540293  35.771034  51.464462\n",
       "4  423832815  35.772175  51.461494"
      ]
     },
     "execution_count": 4,
     "metadata": {},
     "output_type": "execute_result"
    }
   ],
   "source": [
    "pasdaran_nodes.head()"
   ]
  },
  {
   "cell_type": "code",
   "execution_count": 5,
   "metadata": {},
   "outputs": [
    {
     "name": "stdout",
     "output_type": "stream",
     "text": [
      "User Guide: https://docs.kepler.gl/docs/keplergl-jupyter\n"
     ]
    },
    {
     "data": {
      "application/vnd.jupyter.widget-view+json": {
       "model_id": "e9a49973791847439e7f348d513e4693",
       "version_major": 2,
       "version_minor": 0
      },
      "text/plain": [
       "KeplerGl(data={'pasdaran_streets': {'index': [0, 1, 2, 3, 4, 5, 6, 7, 8, 9, 10, 11, 12, 13, 14, 15, 16, 17, 18…"
      ]
     },
     "metadata": {},
     "output_type": "display_data"
    }
   ],
   "source": [
    "# Visualize pasdaran_streets using kepler\n",
    "street_map = KeplerGl()\n",
    "street_map.add_data(data=pasdaran_streets, name='pasdaran_streets')\n",
    "street_map"
   ]
  },
  {
   "cell_type": "markdown",
   "metadata": {
    "id": "osSfUikvvQ6Q"
   },
   "source": [
    "# Creating dataset for trip"
   ]
  },
  {
   "cell_type": "markdown",
   "metadata": {
    "id": "HR3QM8DKvWWt"
   },
   "source": [
    "As you understood, until now, we loaded 2 datasets, `pasdaran_nodes` and `pasdaran_streets`. Now, we should create a dataset from these, such that we can use it for our trip. Each item in this dataset is called a `ride`. We will explain more as we go on."
   ]
  },
  {
   "cell_type": "markdown",
   "metadata": {},
   "source": [
    "First, we should create a **trip** for a driver. For this sake, we should choose 2 random points in our map as the source and destination of the trip. Now, we should find the streets that connect these 2 points. Each street has a length. You should find the shortest path between these 2 points (source and destination) which are in the `pasdaran_streets`. Note that this path should be the **shortest path** meaning that the sum of the lengths of streets should be minimum.\n",
    "\n",
    "**NOTE**: You cannot use any library for finding the shortest path. You should implement it yourself, from scratch. Feel free to use any algorithm and heuristic that you want. Be creative!\n",
    "\n",
    "**NOTE**: Be aware of \"length of streets\" and whether or not they are \"one_way\"!"
   ]
  },
  {
   "cell_type": "code",
   "execution_count": 6,
   "metadata": {
    "id": "w909XhNelmbT"
   },
   "outputs": [],
   "source": [
    "# TODO: You should implement this from scratch and you cannot use any library (such as networkx) for finding the shortest path.\n",
    "from math import radians, sin, cos, sqrt, atan2\n",
    "\n",
    "def find_shotest_path(start_node, end_node, graph):\n",
    "    \"\"\"\n",
    "    Find the shortest path between two nodes in a graph.\n",
    "    :param start_node: The start node\n",
    "    :param end_node: The end node\n",
    "    :param graph: The graph\n",
    "    :return: The shortest path. It is a list of node_ids from start_node to end_node.\n",
    "    Note that you use all of the data in \"pasdaran_streets\" dataset appropriately such as \"street_length\" and \"one_way\".\n",
    "    \"\"\"\n",
    "    # TODO\n",
    "    df = pd.DataFrame(graph)\n",
    "    another_graph = {}\n",
    "    for index, row in df.iterrows():\n",
    "        if row['u'] not in another_graph:\n",
    "            another_graph[row['u']] = {}\n",
    "        if row['v'] not in another_graph:\n",
    "            another_graph[row['v']] = {}\n",
    "        another_graph[row['u']][row['v']] = row['length']\n",
    "        another_graph[row['v']][row['u']] = row['length']\n",
    "    another_start_node, _ = find_closest_node(start_node[0], start_node[1], df)\n",
    "    another_end_node, _ = find_closest_node(end_node[0], end_node[1], df)\n",
    "    shortest_path = dijkstra(another_graph, another_start_node, another_end_node)\n",
    "    \n",
    "    return shortest_path\n",
    "\n",
    "\n",
    "def dijkstra(graph, start, end):\n",
    "    shortest_distances = {node: float('inf') for node in graph}\n",
    "    shortest_distances[start] = 0\n",
    "    visited = set()\n",
    "    previous_nodes = {}\n",
    "    while visited != set(shortest_distances):\n",
    "        current_node = min (\n",
    "            {node: shortest_distances[node] for node in shortest_distances if node not in visited},\n",
    "            key=shortest_distances.get\n",
    "        )\n",
    "        visited.add(current_node)\n",
    "        for neighbor, weight in graph[current_node].items():\n",
    "            if weight + shortest_distances[current_node] < shortest_distances[neighbor]:\n",
    "                shortest_distances[neighbor] = weight + shortest_distances[current_node]\n",
    "                previous_nodes[neighbor] = current_node\n",
    "    path = []\n",
    "    each_distance = []\n",
    "    while end is not None:\n",
    "        path.append(end)\n",
    "        each_distance.append(shortest_distances[end])\n",
    "        end = previous_nodes.get(end)\n",
    "        \n",
    "    if shortest_distances[path[-1]] != float('inf'):\n",
    "        return path[::-1], each_distance[::-1]\n",
    "    return None, None\n",
    "\n",
    "\n",
    "def calculate_distance(lat1, lon1, lat2, lon2):\n",
    "    R = 6371.0\n",
    "    lat1 = radians(lat1)\n",
    "    lon1 = radians(lon1)\n",
    "    lat2 = radians(lat2)\n",
    "    lon2 = radians(lon2)\n",
    "    dlon = lon2 - lon1\n",
    "    dlat = lat2 - lat1\n",
    "    a = sin(dlat / 2)**2 + cos(lat1) * cos(lat2) * sin(dlon / 2)**2\n",
    "    c = 2 * atan2(sqrt(a), sqrt(1 - a))\n",
    "    distance = R * c\n",
    "    \n",
    "    return distance\n",
    "\n",
    "\n",
    "def find_closest_node(lat, lon, df):\n",
    "    closest_node = None\n",
    "    closest_distance = float('inf')\n",
    "    for index, row in df.iterrows():\n",
    "        distance = calculate_distance(lat, lon, row['u_lat'], row['u_lon'])\n",
    "        if distance < closest_distance:\n",
    "            closest_distance = distance\n",
    "            closest_node = row['u']\n",
    "            \n",
    "    return closest_node, closest_distance"
   ]
  },
  {
   "cell_type": "markdown",
   "metadata": {},
   "source": [
    "You should **upload** this cell (`find_shortest_path` function) as a .py file to quera. Your code will be verified if it is actually finding the shortest path and only if it's correct, you will get the grades of this section. Be sure that you put the approriate `import ...` statements at the first of your `.py` file. Remember, you **can not** use any library that does the \"shortest path\" for you. (like networkx) You should implement it yourself.\n",
    "\n",
    "**Note**: You can add other functions and codes to above cell, but you code should have the `find_shortest_path` function with exactly same signature that we have provided. Your code will be tested with calling this function. So, using other functions is not a problem, but keep in mind that the main entry for your code when we test it is the `find_shortest_path` function. Nothing else!"
   ]
  },
  {
   "cell_type": "code",
   "execution_count": 9,
   "metadata": {},
   "outputs": [
    {
     "name": "stdout",
     "output_type": "stream",
     "text": [
      "start :  id     4.548912e+09\n",
      "lat    3.577279e+01\n",
      "lon    5.144461e+01\n",
      "Name: 835, dtype: float64\n",
      "end :  id     4.698557e+09\n",
      "lat    3.577935e+01\n",
      "lon    5.146010e+01\n",
      "Name: 394, dtype: float64\n",
      "[4548912081, 4695866628, 4548912084, 4695866626, 423813732, 423813733, 4695998342, 4698385298, 4316456837, 423815715, 4316456853, 4316456851, 423816018, 423816019, 4316456858, 4695998355, 4551688565, 423815693, 423815694, 4698536184, 423815692, 423815695, 423832812, 423832813, 4698544220, 4698544218, 4695975713, 423793661, 4695969098, 806589258, 1707151175, 423793624, 6096557785, 10922701617, 10922701619, 10922701618, 6096557786, 6434310435, 6434310436, 4698557156, 423793665, 423793666, 4698557154, 4698557152]\n"
     ]
    }
   ],
   "source": [
    "# Create a trip: Choose 2 random points as start and end points and find the shortest path between them.\n",
    "# A trip is a list of node_ids from start_node to end_node.\n",
    "\n",
    "# TODO: Implement and print out a sample trip\n",
    "\n",
    "import random\n",
    "\n",
    "def get_random_node(df):\n",
    "    return df.iloc[random.randint(0, df.shape[0])]\n",
    "\n",
    "def extract_lat_lon(node):\n",
    "    return [node['lat'], node['lon']]\n",
    "\n",
    "start_node = get_random_node(pasdaran_nodes)\n",
    "end_node = get_random_node(pasdaran_nodes)\n",
    "\n",
    "print(\"start : \", start_node)\n",
    "print(\"end : \", end_node)\n",
    "\n",
    "start_coords = extract_lat_lon(start_node)\n",
    "end_coords = extract_lat_lon(end_node)\n",
    "\n",
    "path, distance = find_shotest_path(start_coords, end_coords, pasdaran_streets)\n",
    "\n",
    "print(path)"
   ]
  },
  {
   "cell_type": "markdown",
   "metadata": {
    "id": "YP2kS2GHx02G"
   },
   "source": [
    "Visualize the sampled trip (in the previous cell) on the map. Use `kepler` library for this purpose. Notice that you use keplers \"timestep\" attributes to create a timeline, so you can see the trip's process from _start\\_node_ to _end\\_node_. (You can see an output sample in the next cell)"
   ]
  },
  {
   "cell_type": "code",
   "execution_count": 10,
   "metadata": {
    "colab": {
     "base_uri": "https://localhost:8080/",
     "height": 511
    },
    "id": "kWhW3mIizZ0_",
    "outputId": "1a3319b9-fac1-42ef-e666-8072a9e6ab5f"
   },
   "outputs": [
    {
     "name": "stdout",
     "output_type": "stream",
     "text": [
      "User Guide: https://docs.kepler.gl/docs/keplergl-jupyter\n"
     ]
    },
    {
     "name": "stderr",
     "output_type": "stream",
     "text": [
      "C:\\Users\\KASRA\\AppData\\Local\\Temp\\ipykernel_19344\\2457319822.py:5: SettingWithCopyWarning: \n",
      "A value is trying to be set on a copy of a slice from a DataFrame.\n",
      "Try using .loc[row_indexer,col_indexer] = value instead\n",
      "\n",
      "See the caveats in the documentation: https://pandas.pydata.org/pandas-docs/stable/user_guide/indexing.html#returning-a-view-versus-a-copy\n",
      "  path_nodes['distance'] = path_nodes['id'].map(node_distance)\n"
     ]
    },
    {
     "data": {
      "application/vnd.jupyter.widget-view+json": {
       "model_id": "2e28caec015d486ba052a5cb47daca5a",
       "version_major": 2,
       "version_minor": 0
      },
      "text/plain": [
       "KeplerGl(data={'data_1': {'index': [51, 91, 137, 138, 139, 140, 149, 154, 157, 387, 388, 389, 390, 391, 392, 3…"
      ]
     },
     "metadata": {},
     "output_type": "display_data"
    }
   ],
   "source": [
    "#TODO: Visualize the sampled trip using kepler\n",
    "node_distance = {node: distance for node, distance in zip(path, distance)}\n",
    "\n",
    "path_nodes = pasdaran_nodes[pasdaran_nodes['id'].isin(path)]\n",
    "path_nodes['distance'] = path_nodes['id'].map(node_distance)\n",
    "trip_map = KeplerGl()\n",
    "trip_map.add_data(data=path_nodes, name='data_1')\n",
    "trip_map"
   ]
  },
  {
   "cell_type": "markdown",
   "metadata": {
    "id": "2GRdEUrF7EgN"
   },
   "source": [
    "Now, we are going to get the points in the middle of the streets. Before, we only had the intersections of the streets(start and end nodes of a section). But we know in real life, we get gps locations also in between and not necessarily in the intersections. So, we should add these points to our data. We call every entity of this type as `Ride`. A ride is defined by 3 parameters:\n",
    "1. `ride_speed`: The speed of the ride which driver is driving with. We assume that the driver is driving with a constant speed.\n",
    "2. `driver_gps_time`: The time interval that the driver sends his/her gps location to the server. (e.g. every 5 seconds)\n",
    "3. `trip`: The specific trip that the driver is driving in. (we created this in the previous cells)\n",
    "\n",
    "Now, you should define a function that gets these parameters and returns the locations (lat/longs) in the ride regarding the given parameters."
   ]
  },
  {
   "cell_type": "code",
   "execution_count": 11,
   "metadata": {
    "id": "WSkJzEmelmbU"
   },
   "outputs": [],
   "source": [
    "def visualize_a_ride(ride_speed, ride_gps_time, trip, distance):\n",
    "    ride = []\n",
    "\n",
    "    ride.append(get_node_coordinates(trip[0]))\n",
    "    current_distance = 0\n",
    "    current_index = 1\n",
    "\n",
    "    while current_distance < distance[-1]:\n",
    "        current_distance += ride_speed * ride_gps_time\n",
    "        while current_distance > distance[current_index]:\n",
    "            current_index += 1\n",
    "            if current_index >= len(distance):\n",
    "                return ride\n",
    "\n",
    "        street_length = distance[current_index] - distance[current_index - 1]\n",
    "        part_length = current_distance - distance[current_index - 1]\n",
    "        ratio = part_length / street_length\n",
    "\n",
    "        start_lat, start_lon = get_node_coordinates(trip[current_index - 1])\n",
    "        end_lat, end_lon = get_node_coordinates(trip[current_index])\n",
    "\n",
    "        new_lat = interpolate_coordinates(start_lat, end_lat, ratio)\n",
    "        new_lon = interpolate_coordinates(start_lon, end_lon, ratio)\n",
    "        ride.append([new_lat, new_lon])\n",
    "\n",
    "    return ride\n",
    "\n",
    "\n",
    "def interpolate_coordinates(start, end, ratio):\n",
    "    return start + ratio * (end - start)\n",
    "\n",
    "def get_node_coordinates(node_id):\n",
    "    node = pasdaran_nodes[pasdaran_nodes['id'] == node_id].iloc[0]\n",
    "    return node['lat'], node['lon']"
   ]
  },
  {
   "cell_type": "markdown",
   "metadata": {
    "id": "WuXoo-N37JS8"
   },
   "source": [
    "See a sample ride, printed out."
   ]
  },
  {
   "cell_type": "code",
   "execution_count": 12,
   "metadata": {
    "colab": {
     "base_uri": "https://localhost:8080/"
    },
    "id": "dMtD7q7TlmbU",
    "outputId": "0842e970-ff9a-492a-d0aa-31c44f8a6103"
   },
   "outputs": [
    {
     "name": "stdout",
     "output_type": "stream",
     "text": [
      "[(35.772789001464844, 51.44460678100586), [35.7729282377213, 51.44524812422288], [35.773302660208785, 51.44560181708021], [35.77380768775467, 51.44583601799345], [35.774313459600194, 51.44606777146279], [35.774819236560504, 51.446299515421195], [35.775325185709455, 51.446530677265756], [35.77583329216665, 51.44675454595234], [35.77595966240771, 51.44720387458984], [35.775782876425204, 51.44783225248803], [35.775864187978726, 51.448310362433105], [35.77637366475252, 51.44852943089003], [35.77688105102085, 51.44875557346131], [35.77738540432962, 51.4489919890748], [35.77789165480827, 51.44922214140072], [35.778181763617496, 51.44966261181065], [35.778248745537844, 51.45032257693838], [35.77831532043438, 51.45098260277447], [35.77837997881146, 51.45164291019851], [35.778457013535125, 51.452301206928006], [35.778524345092684, 51.45296095273423], [35.77857697649799, 51.453622893870104], [35.77852051581367, 51.454271117793446], [35.77836055423521, 51.45490632753979], [35.77818730494758, 51.45553605331318], [35.77802303986475, 51.45616958964154], [35.77785567434589, 51.45680188973514], [35.77768392641059, 51.45743239191429], [35.77749315125316, 51.458054458128515], [35.77729391094174, 51.45867255591282], [35.77709525090696, 51.4592901651177], [35.77717362353023, 51.45969238921419], [35.77770358871964, 51.45981725352864], [35.778227074162785, 51.45997856008961], [35.7787576754661, 51.46009031417368], [35.77929591749461, 51.46010505474411]]\n"
     ]
    }
   ],
   "source": [
    "#TODO\n",
    "#trip = [1721683025, 423815697, 423815691, 423815693, 5667400230, 2918357569]\n",
    "ride = visualize_a_ride(12, 5, path, distance)\n",
    "print(ride)"
   ]
  },
  {
   "cell_type": "markdown",
   "metadata": {
    "id": "_Bi1o_2o7Q3r"
   },
   "source": [
    "Visualize the sample ride on the map using `kepler` library. You should define an animation based on the order of the points in the ride, so you can play the animation in the visualization and see the ride!"
   ]
  },
  {
   "cell_type": "code",
   "execution_count": 13,
   "metadata": {
    "colab": {
     "base_uri": "https://localhost:8080/",
     "height": 511
    },
    "id": "lSqTVxIqlmbU",
    "outputId": "7835933e-d766-4b60-ed5e-732ed19fdd77"
   },
   "outputs": [
    {
     "name": "stdout",
     "output_type": "stream",
     "text": [
      "User Guide: https://docs.kepler.gl/docs/keplergl-jupyter\n"
     ]
    },
    {
     "data": {
      "application/vnd.jupyter.widget-view+json": {
       "model_id": "364b9fe37dd64946a646c9848c66d840",
       "version_major": 2,
       "version_minor": 0
      },
      "text/plain": [
       "KeplerGl(data={'ride_data': {'index': [0, 1, 2, 3, 4, 5, 6, 7, 8, 9, 10, 11, 12, 13, 14, 15, 16, 17, 18, 19, 2…"
      ]
     },
     "metadata": {},
     "output_type": "display_data"
    }
   ],
   "source": [
    "#TODO: Visualize the sampled ride using kepler\n",
    "ride_data = pd.DataFrame(ride, columns=['lat', 'lon'])\n",
    "ride_map = KeplerGl()\n",
    "ride_map.add_data(data=ride_data, name='ride_data')\n",
    "ride_map"
   ]
  },
  {
   "cell_type": "markdown",
   "metadata": {
    "id": "DMixk41z8Zil"
   },
   "source": [
    "Now, to complete our dataset, we need to put some random noise on the gps locations. For this sake, we easily add some random noise to the lat/longs of a created `ride`. You should define a function that gets a `ride` and adds some random noise to the lat/longs of the ride. Your function should take in 2 parameters: _ride_ and _gps\\_noise\\_radius_ which is the radius of the circle that you want to add noise to the gps locations. (e.g. 10 meters). The gps noise in assumed to be a normal distribution. So, assume `standard deviation` of the noise to be `gps_noise_radius`."
   ]
  },
  {
   "cell_type": "code",
   "execution_count": 14,
   "metadata": {
    "colab": {
     "base_uri": "https://localhost:8080/"
    },
    "id": "-ghTr5-IlmbU",
    "outputId": "69044cc2-556d-4ee2-93aa-b05ed36e9444"
   },
   "outputs": [
    {
     "name": "stdout",
     "output_type": "stream",
     "text": [
      "Original Ride:\n",
      "1. Lat: 35.772789001464844, Lon: 51.44460678100586\n",
      "2. Lat: 35.7729282377213, Lon: 51.44524812422288\n",
      "3. Lat: 35.773302660208785, Lon: 51.44560181708021\n",
      "4. Lat: 35.77380768775467, Lon: 51.44583601799345\n",
      "5. Lat: 35.774313459600194, Lon: 51.44606777146279\n",
      "6. Lat: 35.774819236560504, Lon: 51.446299515421195\n",
      "7. Lat: 35.775325185709455, Lon: 51.446530677265756\n",
      "8. Lat: 35.77583329216665, Lon: 51.44675454595234\n",
      "9. Lat: 35.77595966240771, Lon: 51.44720387458984\n",
      "10. Lat: 35.775782876425204, Lon: 51.44783225248803\n",
      "11. Lat: 35.775864187978726, Lon: 51.448310362433105\n",
      "12. Lat: 35.77637366475252, Lon: 51.44852943089003\n",
      "13. Lat: 35.77688105102085, Lon: 51.44875557346131\n",
      "14. Lat: 35.77738540432962, Lon: 51.4489919890748\n",
      "15. Lat: 35.77789165480827, Lon: 51.44922214140072\n",
      "16. Lat: 35.778181763617496, Lon: 51.44966261181065\n",
      "17. Lat: 35.778248745537844, Lon: 51.45032257693838\n",
      "18. Lat: 35.77831532043438, Lon: 51.45098260277447\n",
      "19. Lat: 35.77837997881146, Lon: 51.45164291019851\n",
      "20. Lat: 35.778457013535125, Lon: 51.452301206928006\n",
      "21. Lat: 35.778524345092684, Lon: 51.45296095273423\n",
      "22. Lat: 35.77857697649799, Lon: 51.453622893870104\n",
      "23. Lat: 35.77852051581367, Lon: 51.454271117793446\n",
      "24. Lat: 35.77836055423521, Lon: 51.45490632753979\n",
      "25. Lat: 35.77818730494758, Lon: 51.45553605331318\n",
      "26. Lat: 35.77802303986475, Lon: 51.45616958964154\n",
      "27. Lat: 35.77785567434589, Lon: 51.45680188973514\n",
      "28. Lat: 35.77768392641059, Lon: 51.45743239191429\n",
      "29. Lat: 35.77749315125316, Lon: 51.458054458128515\n",
      "30. Lat: 35.77729391094174, Lon: 51.45867255591282\n",
      "31. Lat: 35.77709525090696, Lon: 51.4592901651177\n",
      "32. Lat: 35.77717362353023, Lon: 51.45969238921419\n",
      "33. Lat: 35.77770358871964, Lon: 51.45981725352864\n",
      "34. Lat: 35.778227074162785, Lon: 51.45997856008961\n",
      "35. Lat: 35.7787576754661, Lon: 51.46009031417368\n",
      "36. Lat: 35.77929591749461, Lon: 51.46010505474411\n",
      "\n",
      "Normal Noisy Ride:\n",
      "1. Lat: 35.77274646158136, Lon: 51.444695795032864\n",
      "2. Lat: 35.77286079813254, Lon: 51.445228549257926\n",
      "3. Lat: 35.77323648017273, Lon: 51.445443271706615\n",
      "4. Lat: 35.773637356981936, Lon: 51.445761446725164\n",
      "5. Lat: 35.77446034696663, Lon: 51.44606180193675\n",
      "6. Lat: 35.774941762364264, Lon: 51.44638009420258\n",
      "7. Lat: 35.77528540427619, Lon: 51.44651918571556\n",
      "8. Lat: 35.77582350696469, Lon: 51.44689660475865\n",
      "9. Lat: 35.77589874423959, Lon: 51.447155469471454\n",
      "10. Lat: 35.77574032813214, Lon: 51.44790389463778\n",
      "11. Lat: 35.77592158238928, Lon: 51.44824366999691\n",
      "12. Lat: 35.7763339731697, Lon: 51.448416097669664\n",
      "13. Lat: 35.77692678659851, Lon: 51.44876262434884\n",
      "14. Lat: 35.77741650965574, Lon: 51.449003605495086\n",
      "15. Lat: 35.77793357450656, Lon: 51.449201806371725\n",
      "16. Lat: 35.77813987003961, Lon: 51.44979963123492\n",
      "17. Lat: 35.77813480914732, Lon: 51.45034649278865\n",
      "18. Lat: 35.77815881453426, Lon: 51.45091075050717\n",
      "19. Lat: 35.77854417453745, Lon: 51.45171661549149\n",
      "20. Lat: 35.778388858844814, Lon: 51.452344444838744\n",
      "21. Lat: 35.77843499329225, Lon: 51.452977332412594\n",
      "22. Lat: 35.7783629458925, Lon: 51.45363511170052\n",
      "23. Lat: 35.77851595934717, Lon: 51.45437235831002\n",
      "24. Lat: 35.77851627141934, Lon: 51.454901314327444\n",
      "25. Lat: 35.77812032874566, Lon: 51.455568285829926\n",
      "26. Lat: 35.778069580066116, Lon: 51.45588644810218\n",
      "27. Lat: 35.77796757284503, Lon: 51.45680235795054\n",
      "28. Lat: 35.77785266030264, Lon: 51.457462117101144\n",
      "29. Lat: 35.777441877077145, Lon: 51.4579299209962\n",
      "30. Lat: 35.77719065286038, Lon: 51.45866449890062\n",
      "31. Lat: 35.77692628062175, Lon: 51.45938023806128\n",
      "32. Lat: 35.77727377089742, Lon: 51.45964048202739\n",
      "33. Lat: 35.77783402484206, Lon: 51.45982680576591\n",
      "34. Lat: 35.778335181146936, Lon: 51.45995952409126\n",
      "35. Lat: 35.77867898750195, Lon: 51.45999597354879\n",
      "36. Lat: 35.77935452183345, Lon: 51.46009644146032\n",
      "\n",
      "Uniform Noisy Ride:\n",
      "1. Lat: 35.77286331242809, Lon: 51.444559925745644\n",
      "2. Lat: 35.7729173079558, Lon: 51.44517897548624\n",
      "3. Lat: 35.7732855884344, Lon: 51.44566787831652\n",
      "4. Lat: 35.773757065705986, Lon: 51.445891031257\n",
      "5. Lat: 35.77433468468724, Lon: 51.44614181158701\n",
      "6. Lat: 35.77480511571695, Lon: 51.44626730300756\n",
      "7. Lat: 35.775363944499134, Lon: 51.446451940125684\n",
      "8. Lat: 35.77589149909925, Lon: 51.44681543435405\n",
      "9. Lat: 35.77603789788725, Lon: 51.44727070507239\n",
      "10. Lat: 35.775806028229425, Lon: 51.447763675705396\n",
      "11. Lat: 35.77590476712449, Lon: 51.44828688398247\n",
      "12. Lat: 35.77632222744899, Lon: 51.44855598129864\n",
      "13. Lat: 35.77694482079146, Lon: 51.448740790466864\n",
      "14. Lat: 35.77734959965479, Lon: 51.449074301517214\n",
      "15. Lat: 35.777856246657606, Lon: 51.449166870195256\n",
      "16. Lat: 35.778166598223144, Lon: 51.449752089377604\n",
      "17. Lat: 35.77833770903239, Lon: 51.4503716542946\n",
      "18. Lat: 35.778240501646444, Lon: 51.45098265902666\n",
      "19. Lat: 35.77841967651011, Lon: 51.4516439342769\n",
      "20. Lat: 35.77853935270581, Lon: 51.45222746016876\n",
      "21. Lat: 35.77853826876456, Lon: 51.452916684328294\n",
      "22. Lat: 35.778498673979136, Lon: 51.453601920256325\n",
      "23. Lat: 35.77847152153065, Lon: 51.45418294267434\n",
      "24. Lat: 35.77831417123934, Lon: 51.454902503376395\n",
      "25. Lat: 35.778201065847554, Lon: 51.455564382556545\n",
      "26. Lat: 35.77802802429988, Lon: 51.456111564868515\n",
      "27. Lat: 35.77778789991373, Lon: 51.456831066432095\n",
      "28. Lat: 35.77766151454028, Lon: 51.457399557239846\n",
      "29. Lat: 35.77743422751314, Lon: 51.458066701061995\n",
      "30. Lat: 35.77722213445057, Lon: 51.458680603406556\n",
      "31. Lat: 35.7770766318179, Lon: 51.45933308271841\n",
      "32. Lat: 35.77719795391289, Lon: 51.45972593351869\n",
      "33. Lat: 35.77768154155797, Lon: 51.459798207074684\n",
      "34. Lat: 35.77816368799315, Lon: 51.45995782646063\n",
      "35. Lat: 35.778759203873044, Lon: 51.46017529853774\n",
      "36. Lat: 35.779287063219954, Lon: 51.46013878687507\n",
      "\n",
      "Mixed Noisy Ride:\n",
      "1. Lat: 35.77283186662752, Lon: 51.44463270486767\n",
      "2. Lat: 35.77293448197302, Lon: 51.44519971786415\n",
      "3. Lat: 35.773353013281316, Lon: 51.44566643049828\n",
      "4. Lat: 35.77378015816565, Lon: 51.4458922873923\n",
      "5. Lat: 35.7743173318768, Lon: 51.4461471111613\n",
      "6. Lat: 35.77486629779191, Lon: 51.44650042139455\n",
      "7. Lat: 35.775371064000915, Lon: 51.44652438392666\n",
      "8. Lat: 35.77581980819136, Lon: 51.44679691307655\n",
      "9. Lat: 35.7759887815778, Lon: 51.447212219270675\n",
      "10. Lat: 35.77576634070232, Lon: 51.447805131227426\n",
      "11. Lat: 35.7758521309948, Lon: 51.44835280508457\n",
      "12. Lat: 35.776455400362316, Lon: 51.44856063989229\n",
      "13. Lat: 35.77684371702464, Lon: 51.44890709754875\n",
      "14. Lat: 35.77738986696564, Lon: 51.44899579349724\n",
      "15. Lat: 35.77785109703533, Lon: 51.44924109159488\n",
      "16. Lat: 35.77818592291819, Lon: 51.449706463866086\n",
      "17. Lat: 35.77827021248779, Lon: 51.4503048458836\n",
      "18. Lat: 35.7783363269233, Lon: 51.45099235765801\n",
      "19. Lat: 35.77839961637668, Lon: 51.45172030658472\n",
      "20. Lat: 35.778623599731525, Lon: 51.45231671960511\n",
      "21. Lat: 35.77856356484009, Lon: 51.452985691960805\n",
      "22. Lat: 35.77854226609288, Lon: 51.45367139187596\n",
      "23. Lat: 35.77855706706149, Lon: 51.45430803476102\n",
      "24. Lat: 35.77834253480283, Lon: 51.45497595427878\n",
      "25. Lat: 35.77811313099717, Lon: 51.455580048088414\n",
      "26. Lat: 35.77805619111356, Lon: 51.45620808402605\n",
      "27. Lat: 35.777953878815474, Lon: 51.456855214755024\n",
      "28. Lat: 35.7776931780987, Lon: 51.457533215538916\n",
      "29. Lat: 35.77750288036015, Lon: 51.45811023189335\n",
      "30. Lat: 35.77729696186375, Lon: 51.45870262003577\n",
      "31. Lat: 35.77706504175011, Lon: 51.459322209294726\n",
      "32. Lat: 35.77713418930233, Lon: 51.45979526641258\n",
      "33. Lat: 35.77775762088681, Lon: 51.4598847444768\n",
      "34. Lat: 35.77818346528929, Lon: 51.4600610020737\n",
      "35. Lat: 35.77882406455631, Lon: 51.460083524694035\n",
      "36. Lat: 35.77933400494019, Lon: 51.46023613402036\n"
     ]
    }
   ],
   "source": [
    "# put a random noise on each (lat, lon) location to simulate the GPS noise (suppoes GPS radius is 3 - 8 meters)\n",
    "# TODO\n",
    "# Print out a sample\n",
    "import math\n",
    "\n",
    "min_radius = 0.000027 # eq to 3 meters\n",
    "max_radius = 0.000073 # eq to 8 meters\n",
    "\n",
    "def add_uniform_gps_noise(ride, gps_noise_radius):\n",
    "    noisy_ride = []\n",
    "    for lat, lon in ride:\n",
    "        uniform_lat_noise = random.uniform(-gps_noise_radius, gps_noise_radius)\n",
    "        uniform_lon_noise = random.uniform(-gps_noise_radius, gps_noise_radius)\n",
    "        \n",
    "        noisy_lat_uniform = lat + uniform_lat_noise\n",
    "        noisy_lon_uniform = lon + uniform_lon_noise\n",
    "        \n",
    "        noisy_ride.append((noisy_lat_uniform, noisy_lon_uniform))\n",
    "    return noisy_ride\n",
    "\n",
    "def add_normal_gps_noise(ride, gps_noise_radius):\n",
    "    noisy_ride = []\n",
    "    for lat, lon in ride:\n",
    "        normal_lat_noise = random.gauss(0, gps_noise_radius)\n",
    "        normal_lon_noise = random.gauss(0, gps_noise_radius)\n",
    "        \n",
    "        noisy_lat_normal = lat + normal_lat_noise\n",
    "        noisy_lon_normal = lon + normal_lon_noise\n",
    "        \n",
    "        noisy_ride.append((noisy_lat_normal, noisy_lon_normal))\n",
    "    return noisy_ride\n",
    "\n",
    "def add_mixed_gps_noise(ride, gps_noise_radius):\n",
    "    noisy_ride = []\n",
    "    for lat, lon in ride:\n",
    "        normal_lat_noise = random.gauss(0, gps_noise_radius)\n",
    "        normal_lon_noise = random.gauss(0, gps_noise_radius)\n",
    "        \n",
    "        noisy_lat_normal = lat + normal_lat_noise\n",
    "        noisy_lon_normal = lon + normal_lon_noise\n",
    "\n",
    "        uniform_lat_noise = random.uniform(-gps_noise_radius, gps_noise_radius)\n",
    "        uniform_lon_noise = random.uniform(-gps_noise_radius, gps_noise_radius)\n",
    "        \n",
    "        noisy_lat_uniform = lat + uniform_lat_noise\n",
    "        noisy_lon_uniform = lon + uniform_lon_noise\n",
    "\n",
    "        exp_lat_noise = random.expovariate(1/gps_noise_radius)\n",
    "        exp_lon_noise = random.expovariate(1/gps_noise_radius)\n",
    "        \n",
    "        noisy_lat_exp = lat + exp_lat_noise\n",
    "        noisy_lon_exp = lon + exp_lon_noise\n",
    "\n",
    "        noisy_lat_combined = (noisy_lat_normal + noisy_lat_uniform + noisy_lat_exp) / 3\n",
    "        noisy_lon_combined = (noisy_lon_normal + noisy_lon_uniform + noisy_lon_exp) / 3\n",
    "        \n",
    "        noisy_ride.append((noisy_lat_combined, noisy_lon_combined))\n",
    "    \n",
    "    return noisy_ride\n",
    "\n",
    "\n",
    "gps_noise_radius = 0.000091 # eq to 10 meters\n",
    "print(\"Original Ride:\")\n",
    "for i, position in enumerate(ride, start=1):\n",
    "    print(f\"{i}. Lat: {position[0]}, Lon: {position[1]}\")\n",
    "# normal distribution\n",
    "noisy_ride = add_normal_gps_noise(ride, gps_noise_radius)\n",
    "print(\"\\nNormal Noisy Ride:\")\n",
    "for i, position in enumerate(noisy_ride, start=1):\n",
    "    print(f\"{i}. Lat: {position[0]}, Lon: {position[1]}\")\n",
    "# uniform distribution\n",
    "noisy_ride = add_uniform_gps_noise(ride, gps_noise_radius)\n",
    "print(\"\\nUniform Noisy Ride:\")\n",
    "for i, position in enumerate(noisy_ride, start=1):\n",
    "    print(f\"{i}. Lat: {position[0]}, Lon: {position[1]}\")\n",
    "# mixed distribution\n",
    "noisy_ride = add_mixed_gps_noise(ride, gps_noise_radius)\n",
    "print(\"\\nMixed Noisy Ride:\")\n",
    "for i, position in enumerate(noisy_ride, start=1):\n",
    "    print(f\"{i}. Lat: {position[0]}, Lon: {position[1]}\")\n"
   ]
  },
  {
   "cell_type": "markdown",
   "metadata": {},
   "source": [
    "### Different noise models\n",
    "Experiment adding noise to rides using different models (PDFs) of noise. For example, you can use a uniform distribution for noise. Or you can use a normal distribution for noise. Or you can use a mixture of different distributions. You can also use a distribution that is dependent on the speed of the ride.\n",
    "1. Visualize each noise model (PDF) on a plot. (You can use `matplotlib` library for this purpose)\n",
    "2. Visualize the rides with different noise models on the map. (You can use `kepler` library for this purpose)\n",
    "3. Compare the results of different noise models. Which one is more descriptive of the real world? Why?\n",
    "4. Choose one model that you find appropriate for training your HMM on it. We will use that model for the rest of the project."
   ]
  },
  {
   "cell_type": "code",
   "execution_count": 15,
   "metadata": {},
   "outputs": [
    {
     "name": "stdout",
     "output_type": "stream",
     "text": [
      "First for this radius:  5.101314059654478e-05\n",
      "\n",
      "Normal Noisy Ride:\n",
      "1. Lat: 35.77281389078275, Lon: 51.444543464529985\n",
      "2. Lat: 35.77289455564882, Lon: 51.44519782473134\n",
      "3. Lat: 35.77326971021472, Lon: 51.44554537420229\n",
      "4. Lat: 35.77380595857432, Lon: 51.445907252906494\n",
      "5. Lat: 35.77429890277587, Lon: 51.44596608897067\n",
      "6. Lat: 35.774824701983086, Lon: 51.44642146972001\n",
      "7. Lat: 35.77527126502538, Lon: 51.446609456495075\n",
      "8. Lat: 35.77588550178957, Lon: 51.446745525967295\n",
      "9. Lat: 35.77587299184772, Lon: 51.44726612978946\n",
      "10. Lat: 35.77570420274456, Lon: 51.44788443016028\n",
      "11. Lat: 35.77579868931252, Lon: 51.448298645730056\n",
      "12. Lat: 35.77635382100568, Lon: 51.448655847680286\n",
      "13. Lat: 35.77693318449233, Lon: 51.448641156292524\n",
      "14. Lat: 35.77738365979225, Lon: 51.448984599889755\n",
      "15. Lat: 35.77783335288815, Lon: 51.44935744293494\n",
      "16. Lat: 35.77829365666774, Lon: 51.44968444660898\n",
      "17. Lat: 35.778309713260875, Lon: 51.45036354241728\n",
      "18. Lat: 35.77834509598671, Lon: 51.45095150814783\n",
      "19. Lat: 35.778423120543536, Lon: 51.45167549623618\n",
      "20. Lat: 35.77841357036485, Lon: 51.45228237523555\n",
      "21. Lat: 35.778546148859654, Lon: 51.45294060176117\n",
      "22. Lat: 35.77856859171438, Lon: 51.45362282729117\n",
      "23. Lat: 35.77846361350577, Lon: 51.45424518727538\n",
      "24. Lat: 35.77837202258938, Lon: 51.454897356408416\n",
      "25. Lat: 35.778167768455546, Lon: 51.45551952284837\n",
      "26. Lat: 35.77795830545892, Lon: 51.4561104897436\n",
      "27. Lat: 35.777821275216525, Lon: 51.456901449438966\n",
      "28. Lat: 35.77766382643145, Lon: 51.457460428730755\n",
      "29. Lat: 35.77744709648537, Lon: 51.45802702356305\n",
      "30. Lat: 35.77724971371881, Lon: 51.4587030493028\n",
      "31. Lat: 35.777092883549045, Lon: 51.45926956716577\n",
      "32. Lat: 35.777188821476535, Lon: 51.45967075754492\n",
      "33. Lat: 35.777784318395426, Lon: 51.45979481924144\n",
      "34. Lat: 35.77824557814128, Lon: 51.45986360524087\n",
      "35. Lat: 35.77885015495043, Lon: 51.46011691130714\n",
      "36. Lat: 35.77934658081754, Lon: 51.46015000483452\n",
      "\n",
      "Uniform Noisy Ride:\n",
      "1. Lat: 35.772776504940914, Lon: 51.44456831051991\n",
      "2. Lat: 35.77290075041287, Lon: 51.445294293413355\n",
      "3. Lat: 35.773308982831985, Lon: 51.445575877759666\n",
      "4. Lat: 35.77379996724287, Lon: 51.44587146771167\n",
      "5. Lat: 35.774344492371874, Lon: 51.44603299728171\n",
      "6. Lat: 35.77480628118206, Lon: 51.44632536659929\n",
      "7. Lat: 35.7752762115315, Lon: 51.44654557800407\n",
      "8. Lat: 35.77585880887427, Lon: 51.4467266929273\n",
      "9. Lat: 35.77593003026185, Lon: 51.447210063991136\n",
      "10. Lat: 35.77575873533687, Lon: 51.44779731173294\n",
      "11. Lat: 35.77583454800426, Lon: 51.448307349619874\n",
      "12. Lat: 35.776401310915105, Lon: 51.448561252674175\n",
      "13. Lat: 35.77683873334207, Lon: 51.448804737646036\n",
      "14. Lat: 35.77743164702679, Lon: 51.44904127119169\n",
      "15. Lat: 35.77787821070957, Lon: 51.44926425170881\n",
      "16. Lat: 35.77820905932771, Lon: 51.44967271061564\n",
      "17. Lat: 35.7782530460195, Lon: 51.45031588243818\n",
      "18. Lat: 35.778303571613755, Lon: 51.450946762341836\n",
      "19. Lat: 35.77833208226219, Lon: 51.4516714973347\n",
      "20. Lat: 35.778482732069655, Lon: 51.45233388878909\n",
      "21. Lat: 35.778556848079674, Lon: 51.45300456077989\n",
      "22. Lat: 35.778581187089046, Lon: 51.45357450044169\n",
      "23. Lat: 35.778508599817826, Lon: 51.45426859051589\n",
      "24. Lat: 35.77833645343602, Lon: 51.45491481784139\n",
      "25. Lat: 35.77814861344791, Lon: 51.455510816951076\n",
      "26. Lat: 35.77807273739731, Lon: 51.456127471427315\n",
      "27. Lat: 35.7778581437826, Lon: 51.45682969876654\n",
      "28. Lat: 35.77764509509222, Lon: 51.45739534137708\n",
      "29. Lat: 35.7775269030792, Lon: 51.45806224891682\n",
      "30. Lat: 35.77725666605794, Lon: 51.45862880619479\n",
      "31. Lat: 35.77704811561943, Lon: 51.45927313696778\n",
      "32. Lat: 35.7771411117859, Lon: 51.45973533521084\n",
      "33. Lat: 35.77773289619844, Lon: 51.45979921990227\n",
      "34. Lat: 35.77823835211833, Lon: 51.45998831142374\n",
      "35. Lat: 35.77872010365757, Lon: 51.46010512029089\n",
      "36. Lat: 35.779298850084054, Lon: 51.460117582311845\n",
      "\n",
      "Mixed Noisy Ride:\n",
      "1. Lat: 35.77282261609282, Lon: 51.44459713736908\n",
      "2. Lat: 35.77291959873151, Lon: 51.44528341712783\n",
      "3. Lat: 35.77338321470622, Lon: 51.44559026423897\n",
      "4. Lat: 35.77380752656396, Lon: 51.445877810084944\n",
      "5. Lat: 35.77433936569952, Lon: 51.44615506081834\n",
      "6. Lat: 35.77478241412266, Lon: 51.44632056729358\n",
      "7. Lat: 35.77532568502255, Lon: 51.446552153869995\n",
      "8. Lat: 35.7758396305995, Lon: 51.44684074749669\n",
      "9. Lat: 35.77601779679069, Lon: 51.44721277886759\n",
      "10. Lat: 35.7758054666843, Lon: 51.44786230295659\n",
      "11. Lat: 35.77586590437839, Lon: 51.44830668323552\n",
      "12. Lat: 35.77644716392127, Lon: 51.44854503912588\n",
      "13. Lat: 35.77690038566674, Lon: 51.448735937008756\n",
      "14. Lat: 35.77738353953016, Lon: 51.44907283014785\n",
      "15. Lat: 35.777944748211745, Lon: 51.44925453147857\n",
      "16. Lat: 35.77818991709736, Lon: 51.44969890479124\n",
      "17. Lat: 35.77822847933274, Lon: 51.45031492908297\n",
      "18. Lat: 35.77832381943873, Lon: 51.45097680098041\n",
      "19. Lat: 35.77834070724874, Lon: 51.451658059217586\n",
      "20. Lat: 35.778434879194975, Lon: 51.45231863507106\n",
      "21. Lat: 35.77852516219072, Lon: 51.4529938274085\n",
      "22. Lat: 35.778588344782065, Lon: 51.45366628246654\n",
      "23. Lat: 35.77849117671163, Lon: 51.45431358364513\n",
      "24. Lat: 35.7783569716887, Lon: 51.45491457037931\n",
      "25. Lat: 35.77822325593935, Lon: 51.45555749231138\n",
      "26. Lat: 35.77802773626521, Lon: 51.4561790707853\n",
      "27. Lat: 35.77785941216033, Lon: 51.45680707794728\n",
      "28. Lat: 35.77770252872396, Lon: 51.45744020253107\n",
      "29. Lat: 35.777493300272376, Lon: 51.45806297339218\n",
      "30. Lat: 35.777316008130526, Lon: 51.45867095349511\n",
      "31. Lat: 35.77715902026774, Lon: 51.45928042474582\n",
      "32. Lat: 35.77723482494476, Lon: 51.45967425470045\n",
      "33. Lat: 35.77773538438495, Lon: 51.45984139144972\n",
      "34. Lat: 35.778197906794155, Lon: 51.4600014175385\n",
      "35. Lat: 35.77877738765099, Lon: 51.46009308668323\n",
      "36. Lat: 35.77931374271517, Lon: 51.46011795784825\n",
      "\n",
      "Once again for this radius:  3e-05\n",
      "\n",
      "Normal Noisy Ride:\n",
      "1. Lat: 35.77285837616985, Lon: 51.44456333060744\n",
      "2. Lat: 35.77290785669378, Lon: 51.44525331712804\n",
      "3. Lat: 35.77331590632586, Lon: 51.445604684917704\n",
      "4. Lat: 35.77374327259465, Lon: 51.445827953390015\n",
      "5. Lat: 35.774309818320226, Lon: 51.44604855814694\n",
      "6. Lat: 35.774830955612224, Lon: 51.44630454994695\n",
      "7. Lat: 35.77528952397612, Lon: 51.44649401057104\n",
      "8. Lat: 35.77582632820032, Lon: 51.44675301018848\n",
      "9. Lat: 35.77594038557721, Lon: 51.44722229289987\n",
      "10. Lat: 35.77573746736337, Lon: 51.44786457723504\n",
      "11. Lat: 35.775850061523954, Lon: 51.4482993401741\n",
      "12. Lat: 35.77632264162691, Lon: 51.44850710690197\n",
      "13. Lat: 35.77690216021773, Lon: 51.44873553422233\n",
      "14. Lat: 35.77738348963692, Lon: 51.44901161157185\n",
      "15. Lat: 35.777912973064005, Lon: 51.4492876274034\n",
      "16. Lat: 35.778128957306734, Lon: 51.44965539289506\n",
      "17. Lat: 35.778270072498294, Lon: 51.45031136815701\n",
      "18. Lat: 35.77833750309301, Lon: 51.45101672409191\n",
      "19. Lat: 35.77842365603883, Lon: 51.45170138757717\n",
      "20. Lat: 35.778463875212466, Lon: 51.45230325296608\n",
      "21. Lat: 35.77851230047668, Lon: 51.4529136498397\n",
      "22. Lat: 35.77856781868811, Lon: 51.45359810355196\n",
      "23. Lat: 35.77856480820314, Lon: 51.45426670181161\n",
      "24. Lat: 35.778368603296705, Lon: 51.45489117048333\n",
      "25. Lat: 35.778212919689125, Lon: 51.455542318240475\n",
      "26. Lat: 35.77798725251264, Lon: 51.45617160527212\n",
      "27. Lat: 35.77781826491227, Lon: 51.45681552615212\n",
      "28. Lat: 35.777660075063096, Lon: 51.45748727495505\n",
      "29. Lat: 35.77752014351475, Lon: 51.4580628636819\n",
      "30. Lat: 35.777345424619476, Lon: 51.45864738308702\n",
      "31. Lat: 35.77708845916934, Lon: 51.459294954062344\n",
      "32. Lat: 35.777155785959124, Lon: 51.45975455111128\n",
      "33. Lat: 35.7777056393239, Lon: 51.459804075799504\n",
      "34. Lat: 35.77825518903354, Lon: 51.459955289405755\n",
      "35. Lat: 35.778771903431874, Lon: 51.46004665031024\n",
      "36. Lat: 35.7793194387997, Lon: 51.460106941991434\n",
      "\n",
      "Uniform Noisy Ride:\n",
      "1. Lat: 35.77277153741356, Lon: 51.44459594193717\n",
      "2. Lat: 35.77294636526393, Lon: 51.445261958772896\n",
      "3. Lat: 35.77329660364842, Lon: 51.4456173941216\n",
      "4. Lat: 35.773811899592516, Lon: 51.445851743937595\n",
      "5. Lat: 35.77428512946821, Lon: 51.44608546243347\n",
      "6. Lat: 35.774839452543645, Lon: 51.446301817284244\n",
      "7. Lat: 35.77534696943945, Lon: 51.44652065929511\n",
      "8. Lat: 35.77582090132888, Lon: 51.446733095196024\n",
      "9. Lat: 35.77596977937129, Lon: 51.4471968213329\n",
      "10. Lat: 35.77576763913383, Lon: 51.44781704367694\n",
      "11. Lat: 35.77585282782742, Lon: 51.44830946283243\n",
      "12. Lat: 35.776346975508844, Lon: 51.44855330263171\n",
      "13. Lat: 35.77688646796628, Lon: 51.448753836763984\n",
      "14. Lat: 35.777357361029935, Lon: 51.44897497235263\n",
      "15. Lat: 35.777913278888555, Lon: 51.44923320347839\n",
      "16. Lat: 35.77820307462925, Lon: 51.44965979840408\n",
      "17. Lat: 35.77824447344305, Lon: 51.45034384580696\n",
      "18. Lat: 35.77830279026936, Lon: 51.45100184269646\n",
      "19. Lat: 35.77836163750046, Lon: 51.451641721146494\n",
      "20. Lat: 35.77848251100615, Lon: 51.452329319166076\n",
      "21. Lat: 35.778504631362715, Lon: 51.45296574235536\n",
      "22. Lat: 35.77857775826748, Lon: 51.45363055132895\n",
      "23. Lat: 35.77850614527866, Lon: 51.45428947112704\n",
      "24. Lat: 35.77837396268691, Lon: 51.45490778312254\n",
      "25. Lat: 35.778176343714215, Lon: 51.4555257125295\n",
      "26. Lat: 35.778052389374324, Lon: 51.45614520388171\n",
      "27. Lat: 35.777875880925805, Lon: 51.45677235119389\n",
      "28. Lat: 35.777695246635716, Lon: 51.45743695192455\n",
      "29. Lat: 35.77751405652928, Lon: 51.458080968049366\n",
      "30. Lat: 35.77728535499167, Lon: 51.45867727024022\n",
      "31. Lat: 35.77708620073213, Lon: 51.459273186561404\n",
      "32. Lat: 35.777183282994876, Lon: 51.459717238915836\n",
      "33. Lat: 35.77768104448522, Lon: 51.45979497822295\n",
      "34. Lat: 35.77822482636548, Lon: 51.45999980492125\n",
      "35. Lat: 35.77874849183372, Lon: 51.46008520379905\n",
      "36. Lat: 35.779268457584806, Lon: 51.460103144778685\n",
      "\n",
      "Mixed Noisy Ride:\n",
      "1. Lat: 35.77277814669739, Lon: 51.44462782870971\n",
      "2. Lat: 35.772920877924236, Lon: 51.44524673044336\n",
      "3. Lat: 35.773353816183665, Lon: 51.445626184413946\n",
      "4. Lat: 35.77380447234935, Lon: 51.445839789590856\n",
      "5. Lat: 35.77431947714815, Lon: 51.44608137086718\n",
      "6. Lat: 35.77485047575373, Lon: 51.446306010891966\n",
      "7. Lat: 35.77533897363304, Lon: 51.446536586883724\n",
      "8. Lat: 35.77582654800462, Lon: 51.44676648759302\n",
      "9. Lat: 35.775968406972716, Lon: 51.44723087141069\n",
      "10. Lat: 35.77576589737306, Lon: 51.44783615692469\n",
      "11. Lat: 35.7758706376157, Lon: 51.44832779398172\n",
      "12. Lat: 35.77635175923615, Lon: 51.448536218275024\n",
      "13. Lat: 35.77687295854867, Lon: 51.44876275059195\n",
      "14. Lat: 35.77740799303755, Lon: 51.44899595701952\n",
      "15. Lat: 35.77790532284711, Lon: 51.44921004329611\n",
      "16. Lat: 35.7782212921587, Lon: 51.449664588847696\n",
      "17. Lat: 35.7782603734835, Lon: 51.45032225952437\n",
      "18. Lat: 35.77832237362363, Lon: 51.45100281385907\n",
      "19. Lat: 35.77837703905069, Lon: 51.45163361877138\n",
      "20. Lat: 35.7784689263342, Lon: 51.452314168080285\n",
      "21. Lat: 35.778516318587215, Lon: 51.452979559985\n",
      "22. Lat: 35.77857849123678, Lon: 51.453622115600744\n",
      "23. Lat: 35.77849739756593, Lon: 51.45431807343888\n",
      "24. Lat: 35.7783689828417, Lon: 51.454922740853505\n",
      "25. Lat: 35.77822232672681, Lon: 51.455547913257696\n",
      "26. Lat: 35.77805711437114, Lon: 51.45618522921171\n",
      "27. Lat: 35.77786951747217, Lon: 51.45680634774018\n",
      "28. Lat: 35.777675727554765, Lon: 51.457441126633\n",
      "29. Lat: 35.777487670067906, Lon: 51.45806262767896\n",
      "30. Lat: 35.777289773610086, Lon: 51.458690099701016\n",
      "31. Lat: 35.777103378306585, Lon: 51.45928252199213\n",
      "32. Lat: 35.777187232877814, Lon: 51.45972637394243\n",
      "33. Lat: 35.777706715883845, Lon: 51.459847492575726\n",
      "34. Lat: 35.778227480333314, Lon: 51.45999678114389\n",
      "35. Lat: 35.778775454513955, Lon: 51.46012134596649\n",
      "36. Lat: 35.77929219809412, Lon: 51.46009622987604\n",
      "\n",
      "Once again for this radius:  7e-05\n",
      "\n",
      "Normal Noisy Ride:\n",
      "1. Lat: 35.77278857047781, Lon: 51.4445766922498\n",
      "2. Lat: 35.77303157188129, Lon: 51.445272990833466\n",
      "3. Lat: 35.7732249147947, Lon: 51.44551275041293\n",
      "4. Lat: 35.77382259506344, Lon: 51.44589116127006\n",
      "5. Lat: 35.77428987612385, Lon: 51.44602605834658\n",
      "6. Lat: 35.77476541881748, Lon: 51.44629974102625\n",
      "7. Lat: 35.77534037844325, Lon: 51.44654739439289\n",
      "8. Lat: 35.7758231944997, Lon: 51.44679201557489\n",
      "9. Lat: 35.775960175309166, Lon: 51.44708457052175\n",
      "10. Lat: 35.775860274634596, Lon: 51.4477979467248\n",
      "11. Lat: 35.7758238413471, Lon: 51.448423246873155\n",
      "12. Lat: 35.7763610197177, Lon: 51.4485613298926\n",
      "13. Lat: 35.77680467847632, Lon: 51.44888235437808\n",
      "14. Lat: 35.77735084242046, Lon: 51.44891296453898\n",
      "15. Lat: 35.777875526412295, Lon: 51.44915022460865\n",
      "16. Lat: 35.77806430422345, Lon: 51.4495763234751\n",
      "17. Lat: 35.778357639014835, Lon: 51.450399945777924\n",
      "18. Lat: 35.77846912752864, Lon: 51.45103670351319\n",
      "19. Lat: 35.77831322582783, Lon: 51.451571052247765\n",
      "20. Lat: 35.778522415114296, Lon: 51.45226676993851\n",
      "21. Lat: 35.778528147066375, Lon: 51.45294435216195\n",
      "22. Lat: 35.77859592035934, Lon: 51.45372629650818\n",
      "23. Lat: 35.77849706352795, Lon: 51.45414515622432\n",
      "24. Lat: 35.77832117840628, Lon: 51.45491258749188\n",
      "25. Lat: 35.77825707336713, Lon: 51.45551958488102\n",
      "26. Lat: 35.77807778354273, Lon: 51.456235893852586\n",
      "27. Lat: 35.77779736669392, Lon: 51.456772722317176\n",
      "28. Lat: 35.77760011436806, Lon: 51.457428577823805\n",
      "29. Lat: 35.77749535086664, Lon: 51.45816285144726\n",
      "30. Lat: 35.77747631663264, Lon: 51.45879234621777\n",
      "31. Lat: 35.77709045945485, Lon: 51.45925613162097\n",
      "32. Lat: 35.77720987993491, Lon: 51.45968433040969\n",
      "33. Lat: 35.77768029907359, Lon: 51.459835346701674\n",
      "34. Lat: 35.778329821576335, Lon: 51.4599918581797\n",
      "35. Lat: 35.778776912093306, Lon: 51.46008812723964\n",
      "36. Lat: 35.77933553536173, Lon: 51.46017931874101\n",
      "\n",
      "Uniform Noisy Ride:\n",
      "1. Lat: 35.77274500982713, Lon: 51.44455764132689\n",
      "2. Lat: 35.77288320195608, Lon: 51.44526602932344\n",
      "3. Lat: 35.773285477610166, Lon: 51.4455982125215\n",
      "4. Lat: 35.77387353163908, Lon: 51.44577358541922\n",
      "5. Lat: 35.774251240613125, Lon: 51.446080428243384\n",
      "6. Lat: 35.774804959434384, Lon: 51.44633293836273\n",
      "7. Lat: 35.77529020417004, Lon: 51.44646350278075\n",
      "8. Lat: 35.77579271120533, Lon: 51.446693816811354\n",
      "9. Lat: 35.77597426435924, Lon: 51.44716272692195\n",
      "10. Lat: 35.77582664376087, Lon: 51.44780825057252\n",
      "11. Lat: 35.7759264167321, Lon: 51.44836388251034\n",
      "12. Lat: 35.77642478047523, Lon: 51.448495936703985\n",
      "13. Lat: 35.776904365908024, Lon: 51.44873511868333\n",
      "14. Lat: 35.77741566931162, Lon: 51.449013305719895\n",
      "15. Lat: 35.777867005624095, Lon: 51.44928929315617\n",
      "16. Lat: 35.77822677158548, Lon: 51.44973148499489\n",
      "17. Lat: 35.77820493464642, Lon: 51.45038632223789\n",
      "18. Lat: 35.77838030232465, Lon: 51.45097052533582\n",
      "19. Lat: 35.77843497167983, Lon: 51.451709031191136\n",
      "20. Lat: 35.77843961835545, Lon: 51.452238864810184\n",
      "21. Lat: 35.77849430966048, Lon: 51.453019146505085\n",
      "22. Lat: 35.7785670581603, Lon: 51.453653430135574\n",
      "23. Lat: 35.77850977777038, Lon: 51.45429182726632\n",
      "24. Lat: 35.778423112284955, Lon: 51.45488684104344\n",
      "25. Lat: 35.77823889464526, Lon: 51.45558939137481\n",
      "26. Lat: 35.77799569373889, Lon: 51.45616200497465\n",
      "27. Lat: 35.77785035029318, Lon: 51.45676512372992\n",
      "28. Lat: 35.77769381846586, Lon: 51.45749747165113\n",
      "29. Lat: 35.777509418941676, Lon: 51.45803900457485\n",
      "30. Lat: 35.77726281113875, Lon: 51.45868598718056\n",
      "31. Lat: 35.777106754664715, Lon: 51.45935348196483\n",
      "32. Lat: 35.7771508330544, Lon: 51.45971170509835\n",
      "33. Lat: 35.77765564671144, Lon: 51.45976181395685\n",
      "34. Lat: 35.778244203515335, Lon: 51.459995080005285\n",
      "35. Lat: 35.77868812991839, Lon: 51.46010095318251\n",
      "36. Lat: 35.77927781088065, Lon: 51.46006240227326\n",
      "\n",
      "Mixed Noisy Ride:\n",
      "1. Lat: 35.77276436553009, Lon: 51.44465864286848\n",
      "2. Lat: 35.77301917181751, Lon: 51.445271589383076\n",
      "3. Lat: 35.77327397343396, Lon: 51.445635204111625\n",
      "4. Lat: 35.77379857739098, Lon: 51.445865868442134\n",
      "5. Lat: 35.77436713063668, Lon: 51.446112924835404\n",
      "6. Lat: 35.774853543509046, Lon: 51.44633865160748\n",
      "7. Lat: 35.77534815350205, Lon: 51.446577680874746\n",
      "8. Lat: 35.77588562417308, Lon: 51.44675679385106\n",
      "9. Lat: 35.77594707702941, Lon: 51.44721696364519\n",
      "10. Lat: 35.775858849261795, Lon: 51.44789158386592\n",
      "11. Lat: 35.775828494001665, Lon: 51.44834771934416\n",
      "12. Lat: 35.77637840659015, Lon: 51.4485098080066\n",
      "13. Lat: 35.7769052751976, Lon: 51.448778426344454\n",
      "14. Lat: 35.77733442217059, Lon: 51.44901966532459\n",
      "15. Lat: 35.77791993664032, Lon: 51.44927680553618\n",
      "16. Lat: 35.778197574684526, Lon: 51.44972386228354\n",
      "17. Lat: 35.77831425369468, Lon: 51.45039228539119\n",
      "18. Lat: 35.77828340110408, Lon: 51.45102613443288\n",
      "19. Lat: 35.77846917098635, Lon: 51.45161304205116\n",
      "20. Lat: 35.778502083253784, Lon: 51.45235959376347\n",
      "21. Lat: 35.77856077899239, Lon: 51.452991168497704\n",
      "22. Lat: 35.778620135516086, Lon: 51.45359818184593\n",
      "23. Lat: 35.7784989561813, Lon: 51.454352486553546\n",
      "24. Lat: 35.77837222131809, Lon: 51.45489063686046\n",
      "25. Lat: 35.77820133067153, Lon: 51.455474178382104\n",
      "26. Lat: 35.7780397037489, Lon: 51.45619993693153\n",
      "27. Lat: 35.777890305275356, Lon: 51.45688105301647\n",
      "28. Lat: 35.777715370778616, Lon: 51.45743466096474\n",
      "29. Lat: 35.77750746875015, Lon: 51.458099804302435\n",
      "30. Lat: 35.77729749580957, Lon: 51.458688958226595\n",
      "31. Lat: 35.777176357347344, Lon: 51.4592782578137\n",
      "32. Lat: 35.77715295252386, Lon: 51.45970711625778\n",
      "33. Lat: 35.777739660590214, Lon: 51.45980588219572\n",
      "34. Lat: 35.77820529804887, Lon: 51.46007993216773\n",
      "35. Lat: 35.77879745731403, Lon: 51.46010330644409\n",
      "36. Lat: 35.77925947129682, Lon: 51.46013452348901\n"
     ]
    }
   ],
   "source": [
    "#TODO: Experimenting with different GPS noise radiuses\n",
    "gps_noise_radius = random.uniform(min_radius, max_radius)\n",
    "print(\"First for this radius: \", gps_noise_radius)\n",
    "# normal distribution\n",
    "random_normal_noisy_ride = add_normal_gps_noise(ride, gps_noise_radius)\n",
    "print(\"\\nNormal Noisy Ride:\")\n",
    "for i, position in enumerate(random_normal_noisy_ride, start=1):\n",
    "    print(f\"{i}. Lat: {position[0]}, Lon: {position[1]}\")\n",
    "# uniform distribution\n",
    "random_uniform_noisy_ride = add_uniform_gps_noise(ride, gps_noise_radius)\n",
    "print(\"\\nUniform Noisy Ride:\")\n",
    "for i, position in enumerate(random_uniform_noisy_ride, start=1):\n",
    "    print(f\"{i}. Lat: {position[0]}, Lon: {position[1]}\")\n",
    "# mixed distribution\n",
    "random_mixed_noisy_ride = add_mixed_gps_noise(ride, gps_noise_radius)\n",
    "print(\"\\nMixed Noisy Ride:\")\n",
    "for i, position in enumerate(random_mixed_noisy_ride, start=1):\n",
    "    print(f\"{i}. Lat: {position[0]}, Lon: {position[1]}\")\n",
    "\n",
    "# once again for min radius:\n",
    "\n",
    "gps_noise_radius = 0.000030\n",
    "print(\"\\nOnce again for this radius: \", gps_noise_radius)\n",
    "# normal distribution\n",
    "min_normal_noisy_ride = add_normal_gps_noise(ride, gps_noise_radius)\n",
    "print(\"\\nNormal Noisy Ride:\")\n",
    "for i, position in enumerate(min_normal_noisy_ride, start=1):\n",
    "    print(f\"{i}. Lat: {position[0]}, Lon: {position[1]}\")\n",
    "# uniform distribution\n",
    "min_uniform_noisy_ride = add_uniform_gps_noise(ride, gps_noise_radius)\n",
    "print(\"\\nUniform Noisy Ride:\")\n",
    "for i, position in enumerate(min_uniform_noisy_ride, start=1):\n",
    "    print(f\"{i}. Lat: {position[0]}, Lon: {position[1]}\")\n",
    "# mixed distribution\n",
    "min_mixed_noisy_ride = add_mixed_gps_noise(ride, gps_noise_radius)\n",
    "print(\"\\nMixed Noisy Ride:\")\n",
    "for i, position in enumerate(min_mixed_noisy_ride, start=1):\n",
    "    print(f\"{i}. Lat: {position[0]}, Lon: {position[1]}\")\n",
    "    \n",
    "# once again for max radius:\n",
    "\n",
    "gps_noise_radius = 0.000070\n",
    "print(\"\\nOnce again for this radius: \", gps_noise_radius)\n",
    "# normal distribution\n",
    "max_normal_noisy_ride = add_normal_gps_noise(ride, gps_noise_radius)\n",
    "print(\"\\nNormal Noisy Ride:\")\n",
    "for i, position in enumerate(max_normal_noisy_ride, start=1):\n",
    "    print(f\"{i}. Lat: {position[0]}, Lon: {position[1]}\")\n",
    "# uniform distribution\n",
    "max_uniform_noisy_ride = add_uniform_gps_noise(ride, gps_noise_radius)\n",
    "print(\"\\nUniform Noisy Ride:\")\n",
    "for i, position in enumerate(max_uniform_noisy_ride, start=1):\n",
    "    print(f\"{i}. Lat: {position[0]}, Lon: {position[1]}\")\n",
    "# mixed distribution\n",
    "max_mixed_noisy_ride = add_mixed_gps_noise(ride, gps_noise_radius)\n",
    "print(\"\\nMixed Noisy Ride:\")\n",
    "for i, position in enumerate(max_mixed_noisy_ride, start=1):\n",
    "    print(f\"{i}. Lat: {position[0]}, Lon: {position[1]}\")\n"
   ]
  },
  {
   "cell_type": "code",
   "execution_count": 16,
   "metadata": {},
   "outputs": [
    {
     "data": {
      "image/png": "[encoded data removed]",
      "text/plain": [
       "<Figure size 640x480 with 9 Axes>"
      ]
     },
     "metadata": {},
     "output_type": "display_data"
    }
   ],
   "source": [
    "#TODO: Visualize the noise models using matplotlib\n",
    "import matplotlib.pyplot as plt\n",
    "\n",
    "# Prepare noisy ride data\n",
    "plot_x_normal = [[], [], []]\n",
    "plot_y_normal = [[], [], []]\n",
    "plot_x_uniform = [[], [], []]\n",
    "plot_y_uniform = [[], [], []]\n",
    "plot_x_mixed = [[], [], []]\n",
    "plot_y_mixed = [[], [], []]\n",
    "\n",
    "# Extract differences in coordinates\n",
    "for i in range(len(ride)):\n",
    "    # normal dist.\n",
    "    plot_x_normal[0].append(random_normal_noisy_ride[i][1] - ride[i][1])\n",
    "    plot_y_normal[0].append(random_normal_noisy_ride[i][0] - ride[i][0])\n",
    "    plot_x_normal[1].append(min_normal_noisy_ride[i][1] - ride[i][1])\n",
    "    plot_y_normal[1].append(min_normal_noisy_ride[i][0] - ride[i][0])\n",
    "    plot_x_normal[2].append(max_normal_noisy_ride[i][1] - ride[i][1])\n",
    "    plot_y_normal[2].append(max_normal_noisy_ride[i][0] - ride[i][0])\n",
    "    # uniform dist.\n",
    "    plot_x_uniform[0].append(random_uniform_noisy_ride[i][1] - ride[i][1])\n",
    "    plot_y_uniform[0].append(random_uniform_noisy_ride[i][0] - ride[i][0])\n",
    "    plot_x_uniform[1].append(min_uniform_noisy_ride[i][1] - ride[i][1])\n",
    "    plot_y_uniform[1].append(min_uniform_noisy_ride[i][0] - ride[i][0])\n",
    "    plot_x_uniform[2].append(max_uniform_noisy_ride[i][1] - ride[i][1])\n",
    "    plot_y_uniform[2].append(max_uniform_noisy_ride[i][0] - ride[i][0])\n",
    "    # mixed dist.\n",
    "    plot_x_mixed[0].append(random_mixed_noisy_ride[i][1] - ride[i][1])\n",
    "    plot_y_mixed[0].append(random_mixed_noisy_ride[i][0] - ride[i][0])\n",
    "    plot_x_mixed[1].append(min_mixed_noisy_ride[i][1] - ride[i][1])\n",
    "    plot_y_mixed[1].append(min_mixed_noisy_ride[i][0] - ride[i][0])\n",
    "    plot_x_mixed[2].append(max_mixed_noisy_ride[i][1] - ride[i][1])\n",
    "    plot_y_mixed[2].append(max_mixed_noisy_ride[i][0] - ride[i][0])\n",
    "# Create subplots and plot the data\n",
    "fig, axs = plt.subplots(3, 3)\n",
    "# normal\n",
    "axs[0, 0].scatter(plot_x_normal[0], plot_y_normal[0])\n",
    "axs[0, 0].set_title('Random Normal Noise')\n",
    "\n",
    "axs[0, 1].scatter(plot_x_normal[1], plot_y_normal[1])\n",
    "axs[0, 1].set_title('Min Normal Noise')\n",
    "\n",
    "axs[0, 2].scatter(plot_x_normal[2], plot_y_normal[2])\n",
    "axs[0, 2].set_title('Max Normal Noise')\n",
    "\n",
    "# uniform\n",
    "axs[1, 0].scatter(plot_x_uniform[0], plot_y_uniform[0])\n",
    "axs[1, 0].set_title('Random Uniform Noise')\n",
    "\n",
    "axs[1, 1].scatter(plot_x_uniform[1], plot_y_uniform[1])\n",
    "axs[1, 1].set_title('Min Uniform Noise')\n",
    "\n",
    "axs[1, 2].scatter(plot_x_uniform[2], plot_y_uniform[2])\n",
    "axs[1, 2].set_title('Max Uniform Noise')\n",
    "\n",
    "# mixed\n",
    "axs[2, 0].scatter(plot_x_mixed[0], plot_y_mixed[0])\n",
    "axs[2, 0].set_title('Random Mixed Noise')\n",
    "\n",
    "axs[2, 1].scatter(plot_x_mixed[1], plot_y_mixed[1])\n",
    "axs[2, 1].set_title('Min Mixed Noise')\n",
    "\n",
    "axs[2, 2].scatter(plot_x_mixed[2], plot_y_mixed[2])\n",
    "axs[2, 2].set_title('Max Mixed Noise')\n",
    "\n",
    "fig.tight_layout()\n",
    "plt.show()"
   ]
  },
  {
   "cell_type": "code",
   "execution_count": 18,
   "metadata": {},
   "outputs": [
    {
     "name": "stdout",
     "output_type": "stream",
     "text": [
      "User Guide: https://docs.kepler.gl/docs/keplergl-jupyter\n"
     ]
    },
    {
     "data": {
      "application/vnd.jupyter.widget-view+json": {
       "model_id": "95b3ff1a0cf848d6a4d8b15794cebd4d",
       "version_major": 2,
       "version_minor": 0
      },
      "text/plain": [
       "KeplerGl(data={'ride': {'index': [0, 1, 2, 3, 4, 5, 6, 7, 8, 9, 10, 11, 12, 13, 14, 15, 16, 17, 18, 19, 20, 21…"
      ]
     },
     "metadata": {},
     "output_type": "display_data"
    }
   ],
   "source": [
    "#TODO: Visualize the noise models using kepler\n",
    "noise_map = KeplerGl()\n",
    "\n",
    "data_ride = pd.DataFrame(ride, columns=['lat', 'lon'])\n",
    "\n",
    "# normal\n",
    "data_normal = pd.DataFrame(random_normal_noisy_ride, columns=['lat', 'lon'])\n",
    "\n",
    "# uniform\n",
    "data_uniform = pd.DataFrame(random_uniform_noisy_ride, columns=['lat', 'lon'])\n",
    "\n",
    "# mixed\n",
    "data_mixed = pd.DataFrame(random_mixed_noisy_ride, columns=['lat', 'lon'])\n",
    "\n",
    "noise_map.add_data(data_ride, 'ride')\n",
    "noise_map.add_data(data_normal, 'normal')\n",
    "noise_map.add_data(data_uniform, 'uniform')\n",
    "noise_map.add_data(data_mixed, 'mixed')\n",
    "noise_map"
   ]
  },
  {
   "cell_type": "code",
   "execution_count": null,
   "metadata": {},
   "outputs": [],
   "source": [
    "#TODO: Choose the best model (while you explain why you chose it)"
   ]
  },
  {
   "cell_type": "markdown",
   "metadata": {},
   "source": [
    "**Explanation of my noise model:**\n",
    "\n",
    "I chosed the mixed distribution becasue in real life noises are not uniform, they may differ in different places based on various conditions. Moreover, normal noises may contain some random data that doesn't fit the real expectations, so using a mixed distribution we could have a reasonable noise distribution that is most similar to real world scenarios"
   ]
  },
  {
   "cell_type": "markdown",
   "metadata": {
    "id": "ijwtglf39JyI"
   },
   "source": [
    "Visualize a sample `ride` and its corresponding `noisy_ride` (using your selected noise model) on the map."
   ]
  },
  {
   "cell_type": "code",
   "execution_count": 23,
   "metadata": {
    "colab": {
     "base_uri": "https://localhost:8080/",
     "height": 511
    },
    "id": "abyNFZqElmbV",
    "outputId": "b811a58a-6289-406e-afd7-c96e8c1d20b2"
   },
   "outputs": [
    {
     "name": "stdout",
     "output_type": "stream",
     "text": [
      "User Guide: https://docs.kepler.gl/docs/keplergl-jupyter\n"
     ]
    },
    {
     "data": {
      "application/vnd.jupyter.widget-view+json": {
       "model_id": "27c9551af6af44ae8c9fabfe91c19760",
       "version_major": 2,
       "version_minor": 0
      },
      "text/plain": [
       "KeplerGl(data={'ride': {'index': [0, 1, 2, 3, 4, 5, 6, 7, 8, 9, 10, 11, 12, 13, 14, 15, 16, 17, 18, 19, 20, 21…"
      ]
     },
     "metadata": {},
     "output_type": "display_data"
    }
   ],
   "source": [
    "#TODO: Visualize using kepler\n",
    "best_noise_map = KeplerGl()\n",
    "\n",
    "data_ride = pd.DataFrame(ride, columns=['lat', 'lon'])\n",
    "\n",
    "# normal\n",
    "data_normal = pd.DataFrame(random_normal_noisy_ride, columns=['lat', 'lon'])\n",
    "\n",
    "best_noise_map.add_data(data_ride, 'ride')\n",
    "best_noise_map.add_data(data_normal, 'normal')\n",
    "best_noise_map"
   ]
  },
  {
   "cell_type": "markdown",
   "metadata": {
    "id": "PrNNSj6x-DWd"
   },
   "source": [
    "Now, we create our dataset, We create 20 noisy_rides for each trip."
   ]
  },
  {
   "cell_type": "code",
   "execution_count": 51,
   "metadata": {
    "id": "FxA8kZXP-DHE"
   },
   "outputs": [],
   "source": [
    "#TODO: create and store 20 noisy_rides as a dataset for our HMM to train on it and experiment with it\n",
    "noisy_rides = []\n",
    "for i in range(20):\n",
    "    gps_noise_radius = random.uniform(min_radius, max_radius)\n",
    "    noisy_rides.append(add_mixed_gps_noise(ride, gps_noise_radius))"
   ]
  },
  {
   "cell_type": "markdown",
   "metadata": {
    "id": "labjTZ3hivDJ"
   },
   "source": [
    "# HMM"
   ]
  },
  {
   "cell_type": "markdown",
   "metadata": {},
   "source": [
    "In this section, we want to use the dataset that we created in the previous section to train an HMM model. We want to use HMM models to  **denoise** the gps locations of the rides. We assume that the gps locations of the rides are noisy and we want to denoise them using HMM models. The observations in each _timestamp_ are the observed noisy points in the dataset."
   ]
  },
  {
   "cell_type": "markdown",
   "metadata": {},
   "source": [
    "You should implement a class (or function) named HMM which gets the noisy observations and the `streets` of the map (of course, this is not noisy. we saw that as `pasdaran_streets` in the previous section). You should calculate the transition matrix and emission matrix of the HMM model. You should also implement the `viterbi` algorithm to find the most probable sequence of hidden states (which are the points in the streets) given the noisy observations. Finally, your implementation should be capable of returning the denoised gps locations of the rides. Note that how you define your features, and your states. Be creative!"
   ]
  },
  {
   "cell_type": "code",
   "execution_count": 25,
   "metadata": {},
   "outputs": [
    {
     "name": "stdout",
     "output_type": "stream",
     "text": [
      "Collecting scikit-spatial\n",
      "  Downloading scikit_spatial-7.0.0-py3-none-any.whl (48 kB)\n",
      "     -------------------------------------- 48.4/48.4 kB 406.2 kB/s eta 0:00:00\n",
      "Requirement already satisfied: matplotlib<4,>=3 in c:\\users\\kasra\\anaconda3\\lib\\site-packages (from scikit-spatial) (3.7.0)\n",
      "Requirement already satisfied: scipy<2.0,>=1.8 in c:\\users\\kasra\\anaconda3\\lib\\site-packages (from scikit-spatial) (1.10.0)\n",
      "Requirement already satisfied: numpy<2.0.0,>=1.17.3 in c:\\users\\kasra\\anaconda3\\lib\\site-packages (from scikit-spatial) (1.23.5)\n",
      "Requirement already satisfied: python-dateutil>=2.7 in c:\\users\\kasra\\anaconda3\\lib\\site-packages (from matplotlib<4,>=3->scikit-spatial) (2.8.2)\n",
      "Requirement already satisfied: packaging>=20.0 in c:\\users\\kasra\\anaconda3\\lib\\site-packages (from matplotlib<4,>=3->scikit-spatial) (22.0)\n",
      "Requirement already satisfied: pyparsing>=2.3.1 in c:\\users\\kasra\\anaconda3\\lib\\site-packages (from matplotlib<4,>=3->scikit-spatial) (3.0.9)\n",
      "Requirement already satisfied: pillow>=6.2.0 in c:\\users\\kasra\\anaconda3\\lib\\site-packages (from matplotlib<4,>=3->scikit-spatial) (9.4.0)\n",
      "Requirement already satisfied: kiwisolver>=1.0.1 in c:\\users\\kasra\\anaconda3\\lib\\site-packages (from matplotlib<4,>=3->scikit-spatial) (1.4.4)\n",
      "Requirement already satisfied: contourpy>=1.0.1 in c:\\users\\kasra\\anaconda3\\lib\\site-packages (from matplotlib<4,>=3->scikit-spatial) (1.0.5)\n",
      "Requirement already satisfied: cycler>=0.10 in c:\\users\\kasra\\anaconda3\\lib\\site-packages (from matplotlib<4,>=3->scikit-spatial) (0.11.0)\n",
      "Requirement already satisfied: fonttools>=4.22.0 in c:\\users\\kasra\\anaconda3\\lib\\site-packages (from matplotlib<4,>=3->scikit-spatial) (4.25.0)\n",
      "Requirement already satisfied: six>=1.5 in c:\\users\\kasra\\anaconda3\\lib\\site-packages (from python-dateutil>=2.7->matplotlib<4,>=3->scikit-spatial) (1.16.0)\n",
      "Installing collected packages: scikit-spatial\n",
      "Successfully installed scikit-spatial-7.0.0\n"
     ]
    }
   ],
   "source": [
    "!pip install scikit-spatial"
   ]
  },
  {
   "cell_type": "code",
   "execution_count": 68,
   "metadata": {
    "colab": {
     "base_uri": "https://localhost:8080/"
    },
    "id": "eljM3-Z6SV8k",
    "outputId": "7947e14a-11af-482c-b872-50ae5e11d988"
   },
   "outputs": [],
   "source": [
    "#TODO: Implement helper functions for your calculations\n",
    "from haversine import haversine\n",
    "import numpy as np\n",
    "from skspatial.objects import Line\n",
    "\n",
    "def project_point_to_street(observation, street):\n",
    "    \n",
    "    u_lat = street['u_lat']\n",
    "    u_lon = street['u_lon']\n",
    "    v_lat = street['v_lat']\n",
    "    v_lon = street['v_lon']\n",
    "    one_lat = 111320\n",
    "    one_lon = (np.cos(35.7768) / 360) * 40075000\n",
    "\n",
    "    point = [one_lat * (v_lat - u_lat), one_lon * (v_lon - u_lon)]\n",
    "    another_point = [one_lat * (observation[0] - u_lat), one_lon * (observation[1] - u_lon)]\n",
    "\n",
    "    line = Line.from_points(point_a = [0, 0], point_b = point)\n",
    "    final_point = line.project_point(another_point)\n",
    "\n",
    "    return [(final_point[0] / one_lat) + u_lat, (final_point[1] / one_lon) + u_lon]\n",
    "\n",
    "\n",
    "def distance_observation_from_street(observation, street):\n",
    "    u_lat = street['u_lat']\n",
    "    u_lon = street['u_lon']\n",
    "    v_lat = street['v_lat']\n",
    "    v_lon = street['v_lon']\n",
    "    one_lat = 111320\n",
    "    one_lon = (np.cos(35.7768) / 360) * 40075000\n",
    "\n",
    "    point = [one_lat * (v_lat - u_lat), one_lon * (v_lon - u_lon)]\n",
    "    another_point = [one_lat * (observation[0] - u_lat), one_lon * (observation[1] - u_lon)]\n",
    "\n",
    "    distance_point_from_mid = (np.linalg.norm(np.cross(point, another_point)) / np.linalg.norm(point)) / 1250\n",
    "\n",
    "    return distance_point_from_mid\n",
    "\n",
    "\n"
   ]
  },
  {
   "cell_type": "code",
   "execution_count": null,
   "metadata": {
    "colab": {
     "base_uri": "https://localhost:8080/"
    },
    "id": "2uPqUJzZZh7Q",
    "outputId": "52638369-e8d8-4501-970c-f1b427f85313"
   },
   "outputs": [],
   "source": [
    "# Define your HMM model\n",
    "# Hint: You can assume states of your HMM model to be streets of the map. You may use other designs as well (based on your creativity)!"
   ]
  },
  {
   "cell_type": "code",
   "execution_count": 69,
   "metadata": {},
   "outputs": [],
   "source": [
    "# Use Viterbi Algorithm to find the most probable set of points (denoised points)\n",
    "from typing import List\n",
    "import numpy as np\n",
    "\n",
    "def viterbi_algorithm(noisy_ride, pasdaran_streets):\n",
    "    num_time_steps = len(noisy_ride)\n",
    "    MAX_BEST_STREETS = 9\n",
    "    \n",
    "    state_probabilities = [[[0.0, 0] for _ in range(MAX_BEST_STREETS)] for _ in range(num_time_steps)]\n",
    "    best_previous_states = [[0 for _ in range(MAX_BEST_STREETS)] for _ in range(num_time_steps)]\n",
    "\n",
    "    for time_step in range(num_time_steps):\n",
    "        distances = calculate_distances(noisy_ride[time_step], pasdaran_streets)\n",
    "        sorted_indices = np.argsort(distances)\n",
    "        probabilities = calculate_probabilities(distances, sorted_indices, MAX_BEST_STREETS)\n",
    "\n",
    "        for street_idx in range(MAX_BEST_STREETS):\n",
    "            state_probabilities[time_step][street_idx][1] = sorted_indices[street_idx]\n",
    "\n",
    "            if time_step != 0:\n",
    "                best_previous_states[time_step][street_idx] = calculate_best_previous_state(\n",
    "                    time_step, street_idx, state_probabilities, pasdaran_streets, MAX_BEST_STREETS\n",
    "                )\n",
    "                max_probability = calculate_max_probability(\n",
    "                    time_step, street_idx, best_previous_states, state_probabilities, pasdaran_streets\n",
    "                )\n",
    "                state_probabilities[time_step][street_idx][0] = max_probability * probabilities[street_idx]\n",
    "            else:\n",
    "                state_probabilities[time_step][street_idx][0] = probabilities[street_idx]\n",
    "\n",
    "    max_probability = float('-inf')\n",
    "    best_path_pointer = 0\n",
    "\n",
    "    for street in range(MAX_BEST_STREETS):\n",
    "        current_probability = state_probabilities[-1][street][0]\n",
    "        if current_probability > max_probability:\n",
    "            max_probability = current_probability\n",
    "            best_path_pointer = street\n",
    "\n",
    "    most_probable = [project_point_to_street(noisy_ride[-1], pasdaran_streets.iloc[state_probabilities[-1][best_path_pointer][1]])]\n",
    "\n",
    "    for time_step in range(num_time_steps - 1, 0, -1):\n",
    "        best_path_pointer = best_previous_states[time_step][best_path_pointer]\n",
    "        most_probable.insert(0, \n",
    "                            project_point_to_street(noisy_ride[time_step - 1], \n",
    "                            pasdaran_streets.iloc[state_probabilities[time_step - 1][best_path_pointer][1]])\n",
    "                            )\n",
    "\n",
    "    return most_probable\n",
    "\n",
    "\n",
    "def calculate_distances(ride_point, streets):\n",
    "    distances = []\n",
    "    \n",
    "    for street in range(len(streets)):\n",
    "        distances.append(distance_observation_from_street(ride_point, streets.iloc[street]))\n",
    "    return distances\n",
    "\n",
    "\n",
    "def calculate_probabilities(distances, sorted_indices, MAX_BEST_STREETS):\n",
    "    sum_of_distances = sum(1 / distances[idx] for idx in sorted_indices[:MAX_BEST_STREETS])\n",
    "\n",
    "    probabilities = [(1 / distance) / sum_of_distances for distance in distances[:MAX_BEST_STREETS]]\n",
    "    return probabilities\n",
    "\n",
    "\n",
    "def calculate_best_previous_state(time_step, street_idx, state_probabilities, streets, MAX_BEST_STREETS):\n",
    "    return max(range(MAX_BEST_STREETS), key=lambda prev_s: state_probabilities[time_step - 1][prev_s][0] * 1)\n",
    "\n",
    "\n",
    "def calculate_max_probability(time_step, street_idx, best_previous_state, state_probabilities, streets):\n",
    "    max_probability = state_probabilities[time_step - 1][best_previous_state[time_step][street_idx]][0] * 1\n",
    "    return max_probability"
   ]
  },
  {
   "cell_type": "markdown",
   "metadata": {},
   "source": [
    "Visualize a sample denoised _ride_ using your HMM model. Put `original_points` and `denoised_points` on the map. Use different colors for each of them to make them distinct from eachother. You should use `kepler` library for this purpose."
   ]
  },
  {
   "cell_type": "code",
   "execution_count": 59,
   "metadata": {},
   "outputs": [
    {
     "name": "stdout",
     "output_type": "stream",
     "text": [
      "User Guide: https://docs.kepler.gl/docs/keplergl-jupyter\n"
     ]
    },
    {
     "data": {
      "application/vnd.jupyter.widget-view+json": {
       "model_id": "4273ceef63a34b2ba19d7cadfcf63e8d",
       "version_major": 2,
       "version_minor": 0
      },
      "text/plain": [
       "KeplerGl(data={'original_ride': {'index': [0, 1, 2, 3, 4, 5, 6, 7, 8, 9, 10, 11, 12, 13, 14, 15, 16, 17, 18, 1…"
      ]
     },
     "metadata": {},
     "output_type": "display_data"
    }
   ],
   "source": [
    "#TODO: Visualize a sample noisy_ride alongside its denoised version\n",
    "denoised_result = viterbi_algorithm(noisy_rides[0], pasdaran_streets)\n",
    "\n",
    "denoised_map = KeplerGl()\n",
    "\n",
    "# Create DataFrames for the ride, noisy, and denoised points\n",
    "\n",
    "data_noisy = pd.DataFrame(noisy_rides[0], columns=['lat', 'lon'])\n",
    "data_denoised = pd.DataFrame(denoised_result, columns=['lat', 'lon'])\n",
    "\n",
    "# Add data to the map\n",
    "denoised_map.add_data(data_ride, 'original_ride')\n",
    "denoised_map.add_data(data_noisy, 'noisy_ride')\n",
    "denoised_map.add_data(data_denoised, 'denoised_ride')\n",
    "\n",
    "denoised_map"
   ]
  },
  {
   "cell_type": "markdown",
   "metadata": {},
   "source": [
    "# Testing your model"
   ]
  },
  {
   "cell_type": "markdown",
   "metadata": {},
   "source": [
    "In this section, you should test your model. You could use your dataset (which you generated, step-by-step) until now, to implement, debug and train your model. Now, you should load `test_dataset` that we provided to you as `noisy_test_dataset.csv` and `original_test_dataset.csv`. Run your model on `noisy_test_dataset` and use `original_test_dataset` to evaluate how good you did. run your model on `noisy_test_dataset` to denoise the points. You should put the denoised points in a csv file named `denoised_test_dataset.csv` and submit it with your notebook. Also, You should report the **Mean haversine distance (MHD)** as the measaure of the loss of your model. Go through each trip in the `noisy_test_dataset` and calculate the MHD for each trip. Finally, report the average of the MHDs of all the trips in the `test_dataset` as the MHD of your model."
   ]
  },
  {
   "cell_type": "code",
   "execution_count": 65,
   "metadata": {},
   "outputs": [
    {
     "data": {
      "text/html": [
       "<div>\n",
       "<style scoped>\n",
       "    .dataframe tbody tr th:only-of-type {\n",
       "        vertical-align: middle;\n",
       "    }\n",
       "\n",
       "    .dataframe tbody tr th {\n",
       "        vertical-align: top;\n",
       "    }\n",
       "\n",
       "    .dataframe thead th {\n",
       "        text-align: right;\n",
       "    }\n",
       "</style>\n",
       "<table border=\"1\" class=\"dataframe\">\n",
       "  <thead>\n",
       "    <tr style=\"text-align: right;\">\n",
       "      <th></th>\n",
       "      <th>Unnamed: 0</th>\n",
       "      <th>trip_id</th>\n",
       "      <th>index</th>\n",
       "      <th>source</th>\n",
       "      <th>destination</th>\n",
       "      <th>lat</th>\n",
       "      <th>lon</th>\n",
       "      <th>ride_speed</th>\n",
       "      <th>ride_gps_time</th>\n",
       "    </tr>\n",
       "  </thead>\n",
       "  <tbody>\n",
       "    <tr>\n",
       "      <th>0</th>\n",
       "      <td>0</td>\n",
       "      <td>0</td>\n",
       "      <td>0</td>\n",
       "      <td>4429680702</td>\n",
       "      <td>4695666788</td>\n",
       "      <td>35.771816</td>\n",
       "      <td>51.461178</td>\n",
       "      <td>0.00096</td>\n",
       "      <td>0.466</td>\n",
       "    </tr>\n",
       "    <tr>\n",
       "      <th>1</th>\n",
       "      <td>0</td>\n",
       "      <td>0</td>\n",
       "      <td>1</td>\n",
       "      <td>4429680702</td>\n",
       "      <td>4695666788</td>\n",
       "      <td>35.771458</td>\n",
       "      <td>51.460865</td>\n",
       "      <td>0.00096</td>\n",
       "      <td>0.466</td>\n",
       "    </tr>\n",
       "    <tr>\n",
       "      <th>2</th>\n",
       "      <td>0</td>\n",
       "      <td>0</td>\n",
       "      <td>2</td>\n",
       "      <td>4429680702</td>\n",
       "      <td>4695666788</td>\n",
       "      <td>35.770760</td>\n",
       "      <td>51.460239</td>\n",
       "      <td>0.00096</td>\n",
       "      <td>0.466</td>\n",
       "    </tr>\n",
       "    <tr>\n",
       "      <th>3</th>\n",
       "      <td>0</td>\n",
       "      <td>0</td>\n",
       "      <td>3</td>\n",
       "      <td>4429680702</td>\n",
       "      <td>4695666788</td>\n",
       "      <td>35.770027</td>\n",
       "      <td>51.459633</td>\n",
       "      <td>0.00096</td>\n",
       "      <td>0.466</td>\n",
       "    </tr>\n",
       "    <tr>\n",
       "      <th>4</th>\n",
       "      <td>0</td>\n",
       "      <td>0</td>\n",
       "      <td>4</td>\n",
       "      <td>4429680702</td>\n",
       "      <td>4695666788</td>\n",
       "      <td>35.769318</td>\n",
       "      <td>51.459030</td>\n",
       "      <td>0.00096</td>\n",
       "      <td>0.466</td>\n",
       "    </tr>\n",
       "  </tbody>\n",
       "</table>\n",
       "</div>"
      ],
      "text/plain": [
       "   Unnamed: 0  trip_id  index      source  destination        lat        lon  \\\n",
       "0           0        0      0  4429680702   4695666788  35.771816  51.461178   \n",
       "1           0        0      1  4429680702   4695666788  35.771458  51.460865   \n",
       "2           0        0      2  4429680702   4695666788  35.770760  51.460239   \n",
       "3           0        0      3  4429680702   4695666788  35.770027  51.459633   \n",
       "4           0        0      4  4429680702   4695666788  35.769318  51.459030   \n",
       "\n",
       "   ride_speed  ride_gps_time  \n",
       "0     0.00096          0.466  \n",
       "1     0.00096          0.466  \n",
       "2     0.00096          0.466  \n",
       "3     0.00096          0.466  \n",
       "4     0.00096          0.466  "
      ]
     },
     "execution_count": 65,
     "metadata": {},
     "output_type": "execute_result"
    }
   ],
   "source": [
    "from haversine import haversine\n",
    "from tqdm import tqdm\n",
    "\n",
    "def mean_haversine_distance(denoised_points, original_points):\n",
    "    total_distance = sum(haversine(original, denoised) for original, denoised in zip(original_points, denoised_points))\n",
    "    return total_distance / len(original_points) if len(original_points) > 0 else 0.0\n",
    "\n",
    "test_dataset_noisy = pd.read_csv(\"noisy_test_dataset.csv\")\n",
    "test_dataset_original = pd.read_csv(\"original_test_dataset.csv\")\n",
    "\n",
    "test_dataset_original.head()"
   ]
  },
  {
   "cell_type": "code",
   "execution_count": 66,
   "metadata": {},
   "outputs": [
    {
     "data": {
      "text/html": [
       "<div>\n",
       "<style scoped>\n",
       "    .dataframe tbody tr th:only-of-type {\n",
       "        vertical-align: middle;\n",
       "    }\n",
       "\n",
       "    .dataframe tbody tr th {\n",
       "        vertical-align: top;\n",
       "    }\n",
       "\n",
       "    .dataframe thead th {\n",
       "        text-align: right;\n",
       "    }\n",
       "</style>\n",
       "<table border=\"1\" class=\"dataframe\">\n",
       "  <thead>\n",
       "    <tr style=\"text-align: right;\">\n",
       "      <th></th>\n",
       "      <th>Unnamed: 0</th>\n",
       "      <th>trip_id</th>\n",
       "      <th>index</th>\n",
       "      <th>source</th>\n",
       "      <th>destination</th>\n",
       "      <th>lat</th>\n",
       "      <th>lon</th>\n",
       "      <th>ride_speed</th>\n",
       "      <th>ride_gps_time</th>\n",
       "    </tr>\n",
       "  </thead>\n",
       "  <tbody>\n",
       "    <tr>\n",
       "      <th>0</th>\n",
       "      <td>0</td>\n",
       "      <td>0</td>\n",
       "      <td>0</td>\n",
       "      <td>4429680702</td>\n",
       "      <td>4695666788</td>\n",
       "      <td>35.771917</td>\n",
       "      <td>51.461279</td>\n",
       "      <td>0.00096</td>\n",
       "      <td>0.466</td>\n",
       "    </tr>\n",
       "    <tr>\n",
       "      <th>1</th>\n",
       "      <td>0</td>\n",
       "      <td>0</td>\n",
       "      <td>1</td>\n",
       "      <td>4429680702</td>\n",
       "      <td>4695666788</td>\n",
       "      <td>35.771399</td>\n",
       "      <td>51.460806</td>\n",
       "      <td>0.00096</td>\n",
       "      <td>0.466</td>\n",
       "    </tr>\n",
       "    <tr>\n",
       "      <th>2</th>\n",
       "      <td>0</td>\n",
       "      <td>0</td>\n",
       "      <td>2</td>\n",
       "      <td>4429680702</td>\n",
       "      <td>4695666788</td>\n",
       "      <td>35.770759</td>\n",
       "      <td>51.460239</td>\n",
       "      <td>0.00096</td>\n",
       "      <td>0.466</td>\n",
       "    </tr>\n",
       "    <tr>\n",
       "      <th>3</th>\n",
       "      <td>0</td>\n",
       "      <td>0</td>\n",
       "      <td>3</td>\n",
       "      <td>4429680702</td>\n",
       "      <td>4695666788</td>\n",
       "      <td>35.769997</td>\n",
       "      <td>51.459603</td>\n",
       "      <td>0.00096</td>\n",
       "      <td>0.466</td>\n",
       "    </tr>\n",
       "    <tr>\n",
       "      <th>4</th>\n",
       "      <td>0</td>\n",
       "      <td>0</td>\n",
       "      <td>4</td>\n",
       "      <td>4429680702</td>\n",
       "      <td>4695666788</td>\n",
       "      <td>35.769289</td>\n",
       "      <td>51.459002</td>\n",
       "      <td>0.00096</td>\n",
       "      <td>0.466</td>\n",
       "    </tr>\n",
       "  </tbody>\n",
       "</table>\n",
       "</div>"
      ],
      "text/plain": [
       "   Unnamed: 0  trip_id  index      source  destination        lat        lon  \\\n",
       "0           0        0      0  4429680702   4695666788  35.771917  51.461279   \n",
       "1           0        0      1  4429680702   4695666788  35.771399  51.460806   \n",
       "2           0        0      2  4429680702   4695666788  35.770759  51.460239   \n",
       "3           0        0      3  4429680702   4695666788  35.769997  51.459603   \n",
       "4           0        0      4  4429680702   4695666788  35.769289  51.459002   \n",
       "\n",
       "   ride_speed  ride_gps_time  \n",
       "0     0.00096          0.466  \n",
       "1     0.00096          0.466  \n",
       "2     0.00096          0.466  \n",
       "3     0.00096          0.466  \n",
       "4     0.00096          0.466  "
      ]
     },
     "execution_count": 66,
     "metadata": {},
     "output_type": "execute_result"
    }
   ],
   "source": [
    "test_dataset_noisy.head()"
   ]
  },
  {
   "cell_type": "code",
   "execution_count": 70,
   "metadata": {},
   "outputs": [
    {
     "name": "stdout",
     "output_type": "stream",
     "text": [
      "0 0.007338555888443385\n",
      "1 0.012806604699639517\n",
      "2 0.010084056556443276\n",
      "3 0.011779134961727594\n",
      "4 0.0051731443431352366\n",
      "5 0.010801906836056925\n",
      "6 0.01206160908934668\n",
      "7 0.01027847430828805\n",
      "8 0.015511475148150516\n",
      "10 0.0040374427896578925\n",
      "11 0.011480089754841456\n",
      "12 0.01229732449279695\n",
      "13 0.00481805541035589\n",
      "14 0.008006070003270855\n",
      "15 0.009170695375030622\n",
      "16 0.00985926702688363\n",
      "17 0.012483528901127418\n",
      "18 0.009369283634070151\n",
      "19 0.011169567157712761\n",
      "Average Haversine Distance: 0.009922436125104147\n"
     ]
    }
   ],
   "source": [
    "# Iterate through each noisy ride and denoise it, then calculate the mean haversine distance between the denoised ride and the original ride\n",
    "# Report the Average Mean Haversine Distance for all the rides in the test dataset\n",
    "# This should be of order 10^-3\n",
    "def process_trip_data(noisy_data, original_data, streets_data):\n",
    "    num_trips = 20\n",
    "    test_points = []\n",
    "    test_results = []\n",
    "    my_results = []\n",
    "    haversine_total = 0\n",
    "    num_valid_trips = 0\n",
    "    for trip_id in range(num_trips):\n",
    "        noisy_trip = noisy_data[noisy_data['trip_id'] == trip_id][['lat', 'lon']].to_numpy()\n",
    "        original_trip = original_data[original_data['trip_id'] == trip_id][['lat', 'lon']].to_numpy()\n",
    "\n",
    "        if len(noisy_trip) <= 0:\n",
    "            my_results.append(None)\n",
    "        else:\n",
    "            num_valid_trips += 1\n",
    "            denoised_result = viterbi_algorithm(noisy_trip, streets_data)\n",
    "            distance = mean_haversine_distance(denoised_result, original_trip)\n",
    "            print(trip_id, distance)\n",
    "            haversine_total += distance\n",
    "            my_results.append(denoised_result)\n",
    "\n",
    "        test_data = noisy_data[noisy_data['trip_id'] == trip_id].to_numpy()\n",
    "        for idx, point in enumerate(my_results[trip_id] or []):\n",
    "            if trip_id != 9:\n",
    "                data_entry = [trip_id, idx, test_data[0][3], test_data[0][4], point[0], point[1], test_data[0][7], test_data[0][8]]\n",
    "                test_results.append(data_entry)\n",
    "\n",
    "    denoised_df = pd.DataFrame(test_results, columns=['trip_id', 'index', 'source', 'destination', 'lat', 'lon', 'ride_speed', 'ride_gps_time'])\n",
    "    denoised_df.to_csv('out.csv', index=False)\n",
    "\n",
    "    average_haversine_distance = haversine_total / num_valid_trips if num_valid_trips > 0 else 0\n",
    "    print(\"Average Haversine Distance:\", average_haversine_distance)\n",
    "\n",
    "    \n",
    "process_trip_data(test_dataset_noisy, test_dataset_original, pasdaran_streets)"
   ]
  },
  {
   "cell_type": "markdown",
   "metadata": {},
   "source": [
    "**How to submit**: You should submit your notebook and the `denoised_test_dataset.csv` file. Your codes are verified based on the \"Mean haversine distance\" value that your code gets and the `denoised_test_dataset.csv`. Also, note that for the **shortest path** section, you should have submitted the `.py` file, containing the `def find_shotest_path(start_node, end_node, graph)` function (and all of necessary imports) on quera. Your code will be verified based on the correctness of the shortest path that you find. So, you should submit these in total:\n",
    "1. `STUDENT_NUMBER_Phase1.ipynb` or `.zip` file containing your notebook and the `denoised_test_dataset.csv` file.\n",
    "2. `STUDENT_NUMBER_Phase1.py` file containing the `find_shortest_path` function. (Also submit this to the related section in quera)\n",
    "3. Printed out Average Haversine Distance in the last cell of notebook. (This should be of order $10^{-3}$)"
   ]
  }
 ],
 "metadata": {
  "colab": {
   "provenance": []
  },
  "kernelspec": {
   "display_name": "Python 3 (ipykernel)",
   "language": "python",
   "name": "python3"
  },
  "language_info": {
   "codemirror_mode": {
    "name": "ipython",
    "version": 3
   },
   "file_extension": ".py",
   "mimetype": "text/x-python",
   "name": "python",
   "nbconvert_exporter": "python",
   "pygments_lexer": "ipython3",
   "version": "3.10.9"
  },
  "widgets": {
   "application/vnd.jupyter.widget-state+json": {
    "77b588a25f604d019680da94df72f8d6": {
     "model_module": "keplergl-jupyter",
     "model_module_version": "^0.3.2",
     "model_name": "KeplerGlModal",
     "state": {
      "_dom_classes": [],
      "_model_module": "keplergl-jupyter",
      "_model_module_version": "^0.3.2",
      "_model_name": "KeplerGlModal",
      "_view_count": null,
      "_view_module": "keplergl-jupyter",
      "_view_module_version": "^0.3.2",
      "_view_name": "KeplerGlView",
      "config": {
       "config": {
        "mapState": {
         "bearing": 0,
         "dragRotate": false,
         "isSplit": false,
         "latitude": 35.741495361297474,
         "longitude": 51.41731369359277,
         "pitch": 0,
         "zoom": 12.133728990493546
        },
        "mapStyle": {
         "mapStyles": {},
         "styleType": "dark",
         "threeDBuildingColor": [
          9.665468314072013,
          17.18305478057247,
          31.1442867897876
         ],
         "topLayerGroups": {},
         "visibleLayerGroups": {
          "3d building": false,
          "border": false,
          "building": true,
          "label": true,
          "land": true,
          "road": true,
          "water": true
         }
        },
        "visState": {
         "animationConfig": {
          "currentTime": null,
          "speed": 1
         },
         "filters": [],
         "interactionConfig": {
          "brush": {
           "enabled": false,
           "size": 0.5
          },
          "coordinate": {
           "enabled": false
          },
          "geocoder": {
           "enabled": false
          },
          "tooltip": {
           "compareMode": false,
           "compareType": "absolute",
           "enabled": true,
           "fieldsToShow": {
            "all_data": [
             {
              "format": null,
              "name": "type"
             }
            ]
           }
          }
         },
         "layerBlending": "normal",
         "layers": [
          {
           "config": {
            "color": [
             18,
             147,
             154
            ],
            "columns": {
             "altitude": null,
             "lat": "lat",
             "lng": "lon"
            },
            "dataId": "all_data",
            "hidden": false,
            "highlightColor": [
             252,
             242,
             26,
             255
            ],
            "isVisible": true,
            "label": "locations",
            "textLabel": [
             {
              "alignment": "center",
              "anchor": "start",
              "color": [
               255,
               255,
               255
              ],
              "field": null,
              "offset": [
               0,
               0
              ],
              "size": 18
             }
            ],
            "visConfig": {
             "colorRange": {
              "category": "ColorBrewer",
              "colors": [
               "#e41a1c",
               "#377eb8",
               "#4daf4a",
               "#984ea3",
               "#ff7f00",
               "#ffff33"
              ],
              "name": "ColorBrewer Set1-6",
              "type": "qualitative"
             },
             "filled": true,
             "fixedRadius": false,
             "opacity": 0.8,
             "outline": false,
             "radius": 10,
             "radiusRange": [
              0,
              50
             ],
             "strokeColor": null,
             "strokeColorRange": {
              "category": "Uber",
              "colors": [
               "#5A1846",
               "#900C3F",
               "#C70039",
               "#E3611C",
               "#F1920E",
               "#FFC300"
              ],
              "name": "Global Warming",
              "type": "sequential"
             },
             "thickness": 2
            }
           },
           "id": "ivbjosj",
           "type": "point",
           "visualChannels": {
            "colorField": {
             "name": "type",
             "type": "string"
            },
            "colorScale": "ordinal",
            "sizeField": null,
            "sizeScale": "linear",
            "strokeColorField": null,
            "strokeColorScale": "quantile"
           }
          }
         ],
         "splitMaps": []
        }
       },
       "version": "v1"
      },
      "data": {
       "all_data": {
        "columns": [
         "lat",
         "lon",
         "type"
        ],
        "data": [
         [
          35.76289749145508,
          51.41752243041992,
          "university"
         ],
         [
          35.78015899658203,
          51.31702423095703,
          "university"
         ],
         [
          35.75886917114258,
          51.400691986083984,
          "university"
         ],
         [
          35.80634689331055,
          51.43412780761719,
          "university"
         ],
         [
          35.70586395263672,
          51.39415740966797,
          "university"
         ],
         [
          35.71175765991211,
          51.41083908081055,
          "university"
         ],
         [
          35.703773498535156,
          51.399173736572266,
          "university"
         ],
         [
          35.6207160949707,
          51.391910552978516,
          "university"
         ],
         [
          35.70736312866211,
          51.39768600463867,
          "university"
         ],
         [
          35.70258331298828,
          51.41768264770508,
          "university"
         ],
         [
          35.70863342285156,
          51.38536071777344,
          "university"
         ],
         [
          35.77996826171875,
          51.380184173583984,
          "university"
         ],
         [
          35.72111511230469,
          51.38161849975586,
          "university"
         ],
         [
          35.79006576538086,
          51.312965393066406,
          "university"
         ],
         [
          35.72325134277344,
          51.385257720947266,
          "university"
         ],
         [
          35.72307205200195,
          51.38475036621094,
          "university"
         ],
         [
          35.800254821777344,
          51.462608337402344,
          "university"
         ],
         [
          35.8005485534668,
          51.46290588378906,
          "university"
         ],
         [
          35.80044937133789,
          51.46282958984375,
          "university"
         ],
         [
          35.8001708984375,
          51.4626350402832,
          "university"
         ],
         [
          35.80037307739258,
          51.46287155151367,
          "university"
         ],
         [
          35.809818267822266,
          51.46974182128906,
          "university"
         ],
         [
          35.80210876464844,
          51.49042510986328,
          "university"
         ],
         [
          35.802467346191406,
          51.49069595336914,
          "university"
         ],
         [
          35.802852630615234,
          51.491119384765625,
          "university"
         ],
         [
          35.805320739746094,
          51.49176025390625,
          "university"
         ],
         [
          35.69378662109375,
          51.411800384521484,
          "university"
         ],
         [
          35.70403289794922,
          51.35809326171875,
          "high_school"
         ],
         [
          35.75897979736328,
          51.350746154785156,
          "high_school"
         ],
         [
          35.71183395385742,
          51.49424743652344,
          "high_school"
         ],
         [
          35.66155242919922,
          51.351497650146484,
          "high_school"
         ],
         [
          35.662174224853516,
          51.35105895996094,
          "high_school"
         ],
         [
          35.66262435913086,
          51.351051330566406,
          "high_school"
         ],
         [
          35.77766036987305,
          51.33124923706055,
          "high_school"
         ],
         [
          35.71391677856445,
          51.459285736083984,
          "high_school"
         ],
         [
          35.69200897216797,
          51.39494705200195,
          "high_school"
         ],
         [
          35.71049880981445,
          51.47433090209961,
          "high_school"
         ],
         [
          35.631343841552734,
          51.409542083740234,
          "high_school"
         ],
         [
          35.629573822021484,
          51.410064697265625,
          "high_school"
         ],
         [
          35.75343704223633,
          51.527591705322266,
          "high_school"
         ],
         [
          35.690223693847656,
          51.392024993896484,
          "high_school"
         ],
         [
          35.73594665527344,
          51.29774475097656,
          "high_school"
         ],
         [
          35.724422454833984,
          51.406089782714844,
          "cafe"
         ],
         [
          35.774654388427734,
          51.37675857543945,
          "cafe"
         ],
         [
          35.767845153808594,
          51.44182586669922,
          "cafe"
         ],
         [
          35.75910568237305,
          51.453399658203125,
          "cafe"
         ],
         [
          35.790802001953125,
          51.41978073120117,
          "cafe"
         ],
         [
          35.697750091552734,
          51.407203674316406,
          "cafe"
         ],
         [
          35.75694274902344,
          51.34369659423828,
          "cafe"
         ],
         [
          35.79023361206055,
          51.49240493774414,
          "cafe"
         ],
         [
          35.76307678222656,
          51.33781814575195,
          "cafe"
         ],
         [
          35.77212905883789,
          51.38304138183594,
          "cafe"
         ],
         [
          35.70368576049805,
          51.4019775390625,
          "cafe"
         ],
         [
          35.722991943359375,
          51.40835189819336,
          "cafe"
         ],
         [
          35.727569580078125,
          51.407840728759766,
          "cafe"
         ],
         [
          35.63152313232422,
          51.41822052001953,
          "cafe"
         ],
         [
          35.709388732910156,
          51.42061996459961,
          "cafe"
         ],
         [
          35.725318908691406,
          51.41109848022461,
          "cafe"
         ],
         [
          35.70684051513672,
          51.414459228515625,
          "cafe"
         ],
         [
          35.6965446472168,
          51.42274856567383,
          "cafe"
         ],
         [
          35.725250244140625,
          51.33550262451172,
          "cafe"
         ],
         [
          35.753082275390625,
          51.333251953125,
          "cafe"
         ],
         [
          35.69471740722656,
          51.41681671142578,
          "cafe"
         ],
         [
          35.71518325805664,
          51.419681549072266,
          "cafe"
         ],
         [
          35.76353073120117,
          51.4109992980957,
          "cafe"
         ],
         [
          35.71308898925781,
          51.41477584838867,
          "cafe"
         ],
         [
          35.76559066772461,
          51.45576858520508,
          "cafe"
         ],
         [
          35.76375961303711,
          51.3369140625,
          "cafe"
         ],
         [
          35.75556182861328,
          51.45295715332031,
          "cafe"
         ],
         [
          35.72909927368164,
          51.41273880004883,
          "cafe"
         ],
         [
          35.73232650756836,
          51.48518371582031,
          "cafe"
         ],
         [
          35.723331451416016,
          51.42930221557617,
          "cafe"
         ],
         [
          35.76866149902344,
          51.458248138427734,
          "cafe"
         ],
         [
          35.76603317260742,
          51.354736328125,
          "cafe"
         ],
         [
          35.71354675292969,
          51.39773178100586,
          "cafe"
         ],
         [
          35.707435607910156,
          51.39046096801758,
          "cafe"
         ],
         [
          35.7591438293457,
          51.404632568359375,
          "cafe"
         ],
         [
          35.7248649597168,
          51.404911041259766,
          "cafe"
         ],
         [
          35.729496002197266,
          51.3992805480957,
          "cafe"
         ],
         [
          35.726768493652344,
          51.40500259399414,
          "cafe"
         ],
         [
          35.71022033691406,
          51.44589614868164,
          "cafe"
         ],
         [
          35.76286697387695,
          51.444618225097656,
          "cafe"
         ],
         [
          35.75719451904297,
          51.41733169555664,
          "cafe"
         ],
         [
          35.77216720581055,
          51.43892288208008,
          "cafe"
         ],
         [
          35.70035934448242,
          51.38949966430664,
          "cafe"
         ],
         [
          35.762081146240234,
          51.381324768066406,
          "cafe"
         ],
         [
          35.785369873046875,
          51.4234504699707,
          "cafe"
         ],
         [
          35.776527404785156,
          51.36223220825195,
          "cafe"
         ],
         [
          35.77958679199219,
          51.367088317871094,
          "cafe"
         ],
         [
          35.700286865234375,
          51.40456771850586,
          "cafe"
         ],
         [
          35.771156311035156,
          51.37647247314453,
          "cafe"
         ],
         [
          35.777076721191406,
          51.413604736328125,
          "cafe"
         ],
         [
          35.786170959472656,
          51.371952056884766,
          "cafe"
         ],
         [
          35.70206069946289,
          51.398681640625,
          "cafe"
         ],
         [
          35.71193313598633,
          51.42136001586914,
          "cafe"
         ],
         [
          35.70170974731445,
          51.40547180175781,
          "cafe"
         ],
         [
          35.68861770629883,
          51.41917419433594,
          "cafe"
         ],
         [
          35.70580291748047,
          51.425819396972656,
          "cafe"
         ],
         [
          35.70561218261719,
          51.423526763916016,
          "cafe"
         ],
         [
          35.70561599731445,
          51.42327117919922,
          "cafe"
         ],
         [
          35.70555114746094,
          51.42277908325195,
          "cafe"
         ],
         [
          35.71506881713867,
          51.421897888183594,
          "cafe"
         ],
         [
          35.73873519897461,
          51.313541412353516,
          "cafe"
         ],
         [
          35.7122688293457,
          51.416194915771484,
          "cafe"
         ],
         [
          35.745811462402344,
          51.40472412109375,
          "cafe"
         ],
         [
          35.708072662353516,
          51.39726638793945,
          "cafe"
         ],
         [
          35.79587936401367,
          51.443939208984375,
          "cafe"
         ],
         [
          35.76286315917969,
          51.45756912231445,
          "cafe"
         ],
         [
          35.71192169189453,
          51.421627044677734,
          "cafe"
         ],
         [
          35.794410705566406,
          51.4733772277832,
          "cafe"
         ],
         [
          35.71864700317383,
          51.428504943847656,
          "cafe"
         ],
         [
          35.72669982910156,
          51.30411911010742,
          "cafe"
         ],
         [
          35.676116943359375,
          51.42127227783203,
          "cafe"
         ],
         [
          35.754127502441406,
          51.41910934448242,
          "cafe"
         ],
         [
          35.71757125854492,
          51.426536560058594,
          "cafe"
         ],
         [
          35.72337341308594,
          51.429283142089844,
          "cafe"
         ],
         [
          35.705440521240234,
          51.406158447265625,
          "cafe"
         ],
         [
          35.69971466064453,
          51.402793884277344,
          "cafe"
         ],
         [
          35.72304153442383,
          51.322532653808594,
          "cafe"
         ],
         [
          35.78276062011719,
          51.436344146728516,
          "cafe"
         ],
         [
          35.774322509765625,
          51.42145538330078,
          "cafe"
         ],
         [
          35.776405334472656,
          51.41335678100586,
          "cafe"
         ],
         [
          35.73759460449219,
          51.41489028930664,
          "cafe"
         ],
         [
          35.79175567626953,
          51.43525695800781,
          "cafe"
         ],
         [
          35.72116470336914,
          51.33324432373047,
          "cafe"
         ],
         [
          35.80258560180664,
          51.457584381103516,
          "cafe"
         ],
         [
          35.764713287353516,
          51.45895004272461,
          "cafe"
         ],
         [
          35.738582611083984,
          51.313663482666016,
          "cafe"
         ],
         [
          35.80086898803711,
          51.48409652709961,
          "cafe"
         ],
         [
          35.78458023071289,
          51.37349319458008,
          "cafe"
         ],
         [
          35.79568099975586,
          51.39535903930664,
          "cafe"
         ],
         [
          35.749855041503906,
          51.39814758300781,
          "cafe"
         ],
         [
          35.74991226196289,
          51.398136138916016,
          "cafe"
         ],
         [
          35.70216369628906,
          51.40282440185547,
          "cafe"
         ],
         [
          35.70133972167969,
          51.43513870239258,
          "cafe"
         ],
         [
          35.697845458984375,
          51.378562927246094,
          "cafe"
         ],
         [
          35.7081413269043,
          51.41559982299805,
          "cafe"
         ],
         [
          35.724266052246094,
          51.43381881713867,
          "cafe"
         ],
         [
          35.70137405395508,
          51.41690444946289,
          "cafe"
         ],
         [
          35.77505111694336,
          51.436336517333984,
          "cafe"
         ],
         [
          35.7017936706543,
          51.39128112792969,
          "cafe"
         ],
         [
          35.744571685791016,
          51.398643493652344,
          "cafe"
         ],
         [
          35.715763092041016,
          51.41240692138672,
          "cafe"
         ],
         [
          35.69470977783203,
          51.41780090332031,
          "cafe"
         ],
         [
          35.6952018737793,
          51.43265914916992,
          "cafe"
         ],
         [
          35.68989944458008,
          51.42830276489258,
          "cafe"
         ],
         [
          35.699588775634766,
          51.4194450378418,
          "cafe"
         ],
         [
          35.768795013427734,
          51.462345123291016,
          "cafe"
         ],
         [
          35.76981735229492,
          51.45973205566406,
          "cafe"
         ],
         [
          35.80223083496094,
          51.45801544189453,
          "cafe"
         ],
         [
          35.760799407958984,
          51.40492630004883,
          "cafe"
         ],
         [
          35.78624725341797,
          51.42687225341797,
          "cafe"
         ],
         [
          35.78534698486328,
          51.42979049682617,
          "cafe"
         ],
         [
          35.711185455322266,
          51.41284942626953,
          "cafe"
         ],
         [
          35.75334548950195,
          51.4124641418457,
          "cafe"
         ],
         [
          35.69802474975586,
          51.40579605102539,
          "cafe"
         ],
         [
          35.72294998168945,
          51.44863510131836,
          "cafe"
         ],
         [
          35.69292068481445,
          51.41434860229492,
          "cafe"
         ],
         [
          35.78012466430664,
          51.36083221435547,
          "cafe"
         ],
         [
          35.78132629394531,
          51.335052490234375,
          "cafe"
         ],
         [
          35.70237731933594,
          51.402347564697266,
          "cafe"
         ],
         [
          35.723018646240234,
          51.43146896362305,
          "cafe"
         ],
         [
          35.701480865478516,
          51.41166687011719,
          "cafe"
         ],
         [
          35.70283508300781,
          51.42124938964844,
          "cafe"
         ],
         [
          35.68946838378906,
          51.40704345703125,
          "cafe"
         ],
         [
          35.721275329589844,
          51.433589935302734,
          "cafe"
         ],
         [
          35.77017593383789,
          51.49202346801758,
          "cafe"
         ],
         [
          35.79787826538086,
          51.44856262207031,
          "cafe"
         ],
         [
          35.7652587890625,
          51.35844039916992,
          "cafe"
         ],
         [
          35.76520919799805,
          51.358177185058594,
          "cafe"
         ],
         [
          35.76002502441406,
          51.33375930786133,
          "cafe"
         ],
         [
          35.75056076049805,
          51.39841842651367,
          "cafe"
         ],
         [
          35.80780029296875,
          51.42704772949219,
          "cafe"
         ],
         [
          35.764312744140625,
          51.350582122802734,
          "cafe"
         ],
         [
          35.7015495300293,
          51.40038299560547,
          "cafe"
         ],
         [
          35.70505142211914,
          51.41578674316406,
          "cafe"
         ],
         [
          35.72111511230469,
          51.320438385009766,
          "cafe"
         ],
         [
          35.70899200439453,
          51.41307830810547,
          "cafe"
         ],
         [
          35.757083892822266,
          51.45296096801758,
          "cafe"
         ],
         [
          35.761966705322266,
          51.459712982177734,
          "cafe"
         ],
         [
          35.703556060791016,
          51.41585159301758,
          "cafe"
         ],
         [
          35.707763671875,
          51.434471130371094,
          "cafe"
         ],
         [
          35.76963806152344,
          51.44078826904297,
          "cafe"
         ],
         [
          35.80937957763672,
          51.454627990722656,
          "cafe"
         ],
         [
          35.71023941040039,
          51.414215087890625,
          "cafe"
         ],
         [
          35.71392822265625,
          51.41915512084961,
          "cafe"
         ],
         [
          35.726234436035156,
          51.526702880859375,
          "cafe"
         ],
         [
          35.71406555175781,
          51.418296813964844,
          "cafe"
         ],
         [
          35.77045822143555,
          51.46163558959961,
          "cafe"
         ],
         [
          35.70259094238281,
          51.40258026123047,
          "cafe"
         ],
         [
          35.698856353759766,
          51.406341552734375,
          "cafe"
         ],
         [
          35.77899169921875,
          51.376319885253906,
          "cafe"
         ],
         [
          35.729434967041016,
          51.49258804321289,
          "cafe"
         ],
         [
          35.76433181762695,
          51.4845085144043,
          "cafe"
         ],
         [
          35.77115249633789,
          51.35517120361328,
          "cafe"
         ],
         [
          35.76969528198242,
          51.4264030456543,
          "cafe"
         ],
         [
          35.7047119140625,
          51.390804290771484,
          "cafe"
         ],
         [
          35.7903938293457,
          51.461238861083984,
          "cafe"
         ],
         [
          35.755149841308594,
          51.45304870605469,
          "cafe"
         ],
         [
          35.74198532104492,
          51.44419860839844,
          "cafe"
         ],
         [
          35.7099609375,
          51.41895294189453,
          "cafe"
         ],
         [
          35.78750228881836,
          51.423526763916016,
          "cafe"
         ],
         [
          35.70117950439453,
          51.41415786743164,
          "cafe"
         ],
         [
          35.70115280151367,
          51.41484451293945,
          "cafe"
         ],
         [
          35.77179718017578,
          51.42901611328125,
          "cafe"
         ],
         [
          35.71628952026367,
          51.417999267578125,
          "cafe"
         ],
         [
          35.69702911376953,
          51.40525817871094,
          "cafe"
         ],
         [
          35.70446014404297,
          51.40089416503906,
          "cafe"
         ],
         [
          35.63487243652344,
          51.381256103515625,
          "cafe"
         ],
         [
          35.697288513183594,
          51.40028381347656,
          "cafe"
         ],
         [
          35.79673385620117,
          51.44426345825195,
          "cafe"
         ],
         [
          35.72031021118164,
          51.405006408691406,
          "cafe"
         ],
         [
          35.76267623901367,
          51.4416389465332,
          "cafe"
         ],
         [
          35.70962905883789,
          51.38954162597656,
          "cafe"
         ],
         [
          35.721492767333984,
          51.43083953857422,
          "cafe"
         ],
         [
          35.745323181152344,
          51.5163688659668,
          "cafe"
         ],
         [
          35.768775939941406,
          51.466094970703125,
          "cafe"
         ],
         [
          35.76815414428711,
          51.4650993347168,
          "cafe"
         ],
         [
          35.790218353271484,
          51.46113204956055,
          "cafe"
         ],
         [
          35.76251220703125,
          51.41444778442383,
          "cafe"
         ],
         [
          35.77495574951172,
          51.436492919921875,
          "cafe"
         ],
         [
          35.79266357421875,
          51.452789306640625,
          "cafe"
         ],
         [
          35.73377990722656,
          51.34520721435547,
          "cafe"
         ],
         [
          35.72542190551758,
          51.4110221862793,
          "cafe"
         ],
         [
          35.7710075378418,
          51.420745849609375,
          "cafe"
         ],
         [
          35.702369689941406,
          51.40862274169922,
          "cafe"
         ],
         [
          35.80111312866211,
          51.415992736816406,
          "cafe"
         ],
         [
          35.71823501586914,
          51.420616149902344,
          "cafe"
         ],
         [
          35.702415466308594,
          51.39781951904297,
          "cafe"
         ],
         [
          35.64780044555664,
          51.39326477050781,
          "cafe"
         ],
         [
          35.79930114746094,
          51.46697998046875,
          "cafe"
         ],
         [
          35.76483917236328,
          51.440834045410156,
          "cafe"
         ],
         [
          35.736289978027344,
          51.33262634277344,
          "cafe"
         ],
         [
          35.79326629638672,
          51.42427444458008,
          "cafe"
         ],
         [
          35.6976203918457,
          51.394691467285156,
          "cafe"
         ],
         [
          35.79032516479492,
          51.42139434814453,
          "cafe"
         ],
         [
          35.72048568725586,
          51.41410827636719,
          "cafe"
         ],
         [
          35.7376708984375,
          51.43244934082031,
          "cafe"
         ],
         [
          35.63514709472656,
          51.40928649902344,
          "cafe"
         ],
         [
          35.78006362915039,
          51.44975280761719,
          "cafe"
         ],
         [
          35.700767517089844,
          51.39577102661133,
          "cafe"
         ]
        ],
        "index": [
         782,
         928,
         1191,
         3344,
         3867,
         4643,
         5146,
         5866,
         7953,
         9300,
         9645,
         9696,
         14937,
         17874,
         18031,
         18032,
         18141,
         18142,
         18143,
         18144,
         18145,
         18146,
         18147,
         18148,
         18149,
         18150,
         19239,
         99,
         2080,
         2285,
         3217,
         3218,
         3219,
         3367,
         6083,
         6269,
         6775,
         7019,
         7020,
         8802,
         11068,
         17658,
         191,
         604,
         684,
         698,
         945,
         1447,
         1678,
         1817,
         1904,
         1948,
         1975,
         2084,
         2086,
         2087,
         2114,
         2160,
         2184,
         2239,
         2276,
         2388,
         2407,
         2416,
         2419,
         2420,
         2433,
         2577,
         2614,
         2802,
         2886,
         3098,
         3181,
         3228,
         3270,
         3271,
         3337,
         3407,
         3408,
         3409,
         3516,
         3563,
         3570,
         3967,
         4079,
         4087,
         4204,
         4230,
         4241,
         4243,
         4266,
         4330,
         4386,
         4526,
         4559,
         4644,
         4646,
         4699,
         4700,
         4702,
         4703,
         4774,
         4913,
         4956,
         4957,
         4958,
         5076,
         5157,
         5299,
         5349,
         5518,
         5625,
         5641,
         5737,
         5922,
         6087,
         6118,
         6126,
         6133,
         6174,
         6223,
         6226,
         6238,
         6240,
         6262,
         6334,
         6398,
         6401,
         6483,
         6536,
         6540,
         6563,
         6575,
         6721,
         6728,
         6739,
         6801,
         6816,
         6818,
         6884,
         6889,
         7242,
         7526,
         7730,
         7758,
         7807,
         7860,
         7926,
         7944,
         8135,
         8195,
         8225,
         8226,
         8365,
         8374,
         8416,
         8450,
         8509,
         8587,
         8724,
         8749,
         8774,
         8775,
         8797,
         8859,
         8953,
         8962,
         8969,
         9083,
         9084,
         9098,
         9385,
         9617,
         9761,
         9966,
         9992,
         10126,
         10275,
         10431,
         10432,
         10464,
         10624,
         10754,
         10770,
         10950,
         11014,
         11088,
         11174,
         11307,
         11616,
         11685,
         11704,
         11894,
         12040,
         12092,
         12229,
         12230,
         12308,
         12384,
         12394,
         12397,
         12672,
         12956,
         12960,
         13004,
         13134,
         13160,
         13199,
         13212,
         13324,
         13978,
         14044,
         14082,
         14171,
         14437,
         14532,
         14755,
         14756,
         15075,
         15184,
         15326,
         15549,
         15868,
         16009,
         16187,
         16316,
         16354,
         17152,
         17227,
         17677,
         17794,
         18034,
         18216,
         18254,
         18263,
         18488,
         18642,
         18663,
         18932,
         19069,
         19083
        ]
       }
      },
      "height": 800,
      "layout": "IPY_MODEL_7f0e0643151c4b4c8166724f7b2e8ab5",
      "value": "Hello World!"
     }
    },
    "7f0e0643151c4b4c8166724f7b2e8ab5": {
     "model_module": "@jupyter-widgets/base",
     "model_module_version": "1.2.0",
     "model_name": "LayoutModel",
     "state": {
      "_model_module": "@jupyter-widgets/base",
      "_model_module_version": "1.2.0",
      "_model_name": "LayoutModel",
      "_view_count": null,
      "_view_module": "@jupyter-widgets/base",
      "_view_module_version": "1.2.0",
      "_view_name": "LayoutView",
      "align_content": null,
      "align_items": null,
      "align_self": null,
      "border": null,
      "bottom": null,
      "display": null,
      "flex": null,
      "flex_flow": null,
      "grid_area": null,
      "grid_auto_columns": null,
      "grid_auto_flow": null,
      "grid_auto_rows": null,
      "grid_column": null,
      "grid_gap": null,
      "grid_row": null,
      "grid_template_areas": null,
      "grid_template_columns": null,
      "grid_template_rows": null,
      "height": null,
      "justify_content": null,
      "justify_items": null,
      "left": null,
      "margin": null,
      "max_height": null,
      "max_width": null,
      "min_height": null,
      "min_width": null,
      "object_fit": null,
      "object_position": null,
      "order": null,
      "overflow": null,
      "overflow_x": null,
      "overflow_y": null,
      "padding": null,
      "right": null,
      "top": null,
      "visibility": null,
      "width": null
     }
    }
   }
  }
 },
 "nbformat": 4,
 "nbformat_minor": 1
}
